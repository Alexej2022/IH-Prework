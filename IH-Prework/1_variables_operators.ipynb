{
 "cells": [
  {
   "cell_type": "markdown",
   "metadata": {},
   "source": [
    "## 1_variables_operators.ipynb\n",
    "## Variables: definition"
   ]
  },
  {
   "cell_type": "markdown",
   "metadata": {},
   "source": [
    "*Variables are placeholders to store data values to recover them later.*\n",
    "\n",
    "Consider the following analogy: you have a water source and you want to collect some water. If you don't have a placeholder (mug, bucket, bottle,...), you will not be able to collect it as the water will drain through your fingers. \n",
    "\n",
    "Variables need to have a name and this name can be anything you want as long as you follow some [rules](https://www.w3schools.com/python/gloss_python_variable_names.asp)."
   ]
  },
  {
   "cell_type": "code",
   "execution_count": null,
   "metadata": {},
   "outputs": [],
   "source": [
    "# Variable Names\n",
    "# A variable can have a short name (like x and y) or a more descriptive name (age, carname, total_volume).\n",
    "\n",
    "# Rules for Python variables:\n",
    "\n",
    "# A variable name must start with a letter or the underscore character\n",
    "# A variable name cannot start with a number\n",
    "# A variable name can only contain alpha-numeric characters and underscores (A-z, 0-9, and _ )\n",
    "# Variable names are case-sensitive (age, Age and AGE are three different variables)\n",
    "# new"
   ]
  },
  {
   "cell_type": "code",
   "execution_count": null,
   "metadata": {},
   "outputs": [],
   "source": [
    "# #Legal variable names:\n",
    "# myvar = \"John\"\n",
    "# my_var = \"John\"\n",
    "# _my_var = \"John\"\n",
    "# myVar = \"John\"\n",
    "# MYVAR = \"John\"\n",
    "# myvar2 = \"John\"\n",
    "\n",
    "# #Illegal variable names:\n",
    "# 2myvar = \"John\"\n",
    "# my-var = \"John\"\n",
    "# my var = \"John\""
   ]
  },
  {
   "cell_type": "code",
   "execution_count": null,
   "metadata": {},
   "outputs": [],
   "source": [
    "# x, y, z = \"Orange\", \"Banana\", \"Cherry\"\n",
    "\n",
    "# print(x)\n",
    "# print(y)\n",
    "# print(z)\n"
   ]
  },
  {
   "cell_type": "code",
   "execution_count": 1,
   "metadata": {},
   "outputs": [],
   "source": [
    "x = 10\n",
    "y = 20.5\n",
    "z = 'hello'"
   ]
  },
  {
   "cell_type": "code",
   "execution_count": 2,
   "metadata": {},
   "outputs": [
    {
     "name": "stdout",
     "output_type": "stream",
     "text": [
      "10\n"
     ]
    }
   ],
   "source": [
    "print(x)"
   ]
  },
  {
   "cell_type": "code",
   "execution_count": 17,
   "metadata": {},
   "outputs": [
    {
     "name": "stdout",
     "output_type": "stream",
     "text": [
      "20.5\n"
     ]
    }
   ],
   "source": [
    "print(y)"
   ]
  },
  {
   "cell_type": "code",
   "execution_count": 18,
   "metadata": {},
   "outputs": [
    {
     "name": "stdout",
     "output_type": "stream",
     "text": [
      "hello\n"
     ]
    }
   ],
   "source": [
    "print(z)"
   ]
  },
  {
   "cell_type": "markdown",
   "metadata": {},
   "source": [
    "## Data Types "
   ]
  },
  {
   "cell_type": "markdown",
   "metadata": {},
   "source": [
    "Python is a dynamically typed language. That means the interpreter infers the type of an object at runtime. Basic data types are:\n",
    "- **Integers**: stores positive or negative integer values. In Python, the integer type can be arbitrarily large. _(eg. 10, 3, -5)_\n",
    "- **Float**: stores decimal numbers. By default, Python interprets any number that includes a decimal point as a double precision floating point number. Like some other programming languages, in Python, there is not much difference between float and double except that float is in-built in Python, while double is imported from a library called `NumPy`. We will talk about the libraries in detail later. _(eg. 20.2, 100.2403, -5.50)_\n",
    "- **String**: stores a group of characters encapsulated in a single quote or double quotes _(eg. \"hello\", \"Ironhack\", \"Teacher\")_\n",
    "- **Boolean**: stores either a TRUE or FALSE"
   ]
  },
  {
   "cell_type": "markdown",
   "metadata": {},
   "source": [
    "To check our data types we will use the function `type()` (in Python, any name which is followed by opening and closing parentheses is a function)"
   ]
  },
  {
   "cell_type": "markdown",
   "metadata": {},
   "source": [
    "**Integer**"
   ]
  },
  {
   "cell_type": "code",
   "execution_count": 53,
   "metadata": {},
   "outputs": [
    {
     "name": "stdout",
     "output_type": "stream",
     "text": [
      "10\n"
     ]
    },
    {
     "data": {
      "text/plain": [
       "int"
      ]
     },
     "execution_count": 53,
     "metadata": {},
     "output_type": "execute_result"
    }
   ],
   "source": [
    "x = 10 \n",
    "print(x) \n",
    "type(x)"
   ]
  },
  {
   "cell_type": "markdown",
   "metadata": {},
   "source": [
    "As you can see from the example above, `print` and `type` are followed by `()` and therefore they are functions. They take an argument and the return another value. "
   ]
  },
  {
   "cell_type": "markdown",
   "metadata": {},
   "source": [
    "**Float**"
   ]
  },
  {
   "cell_type": "code",
   "execution_count": 2,
   "metadata": {},
   "outputs": [
    {
     "name": "stdout",
     "output_type": "stream",
     "text": [
      "20.5\n"
     ]
    },
    {
     "data": {
      "text/plain": [
       "float"
      ]
     },
     "execution_count": 2,
     "metadata": {},
     "output_type": "execute_result"
    }
   ],
   "source": [
    "y = 20.5\n",
    "print(y) \n",
    "type(y) "
   ]
  },
  {
   "cell_type": "markdown",
   "metadata": {},
   "source": [
    "**String**  \n",
    "String can  be encapsulated in single quotes or double quotes."
   ]
  },
  {
   "cell_type": "code",
   "execution_count": 4,
   "metadata": {},
   "outputs": [
    {
     "name": "stdout",
     "output_type": "stream",
     "text": [
      "hello\n"
     ]
    },
    {
     "data": {
      "text/plain": [
       "str"
      ]
     },
     "execution_count": 4,
     "metadata": {},
     "output_type": "execute_result"
    }
   ],
   "source": [
    "z = \"hello\" \n",
    "print(z) \n",
    "type(z)"
   ]
  },
  {
   "cell_type": "code",
   "execution_count": 1,
   "metadata": {},
   "outputs": [
    {
     "name": "stdout",
     "output_type": "stream",
     "text": [
      "hello there\n"
     ]
    },
    {
     "data": {
      "text/plain": [
       "str"
      ]
     },
     "execution_count": 1,
     "metadata": {},
     "output_type": "execute_result"
    }
   ],
   "source": [
    "x = 'hello there' \n",
    "print(x) \n",
    "type(x)"
   ]
  },
  {
   "cell_type": "markdown",
   "metadata": {},
   "source": [
    "**Note:** As you can see from the examples above, you can define a string using double `\" \"` or single quotes`' '`. You may wonder when you should use double quotes and single quotes. The short answer is that depends on your string. If your string contains single quotes like `I couldn't make it` then, you must use double quotes. Otherwise, you are safe using single quotes."
   ]
  },
  {
   "cell_type": "markdown",
   "metadata": {},
   "source": [
    "**Note:** in the previous two cases, the length of the string was small (they were single-line strings).   \n",
    "What if we want a string that is more than one line long (multiple line string).  \n",
    "In such cases, we use three single quotes. And every new line is represented by a '/n' character in the output."
   ]
  },
  {
   "cell_type": "code",
   "execution_count": 25,
   "metadata": {},
   "outputs": [
    {
     "name": "stdout",
     "output_type": "stream",
     "text": [
      "Float - stores decimal numbers. By default, python interprets any number that includes a decimal point as a double precision floating point number. Like some other programming languages, in python there is not much difference between float and double except that float is in built in python while double is imported from a library called numpy.\n",
      "We will talk about the libraries in detail later.\n",
      "Hello\n",
      "There!\n"
     ]
    },
    {
     "data": {
      "text/plain": [
       "str"
      ]
     },
     "execution_count": 25,
     "metadata": {},
     "output_type": "execute_result"
    }
   ],
   "source": [
    "# Multiple line string\n",
    "x = '''Float - stores decimal numbers. By default, Python interprets any number that includes a decimal point as a double precision floating point number. Like some other programming languages, in Python there is not much difference between float and double except that float is in-built in Python, while double is imported from a library called NumPy.\n",
    "We will talk about the libraries in detail later.\n",
    "Hello\n",
    "There!'''\n",
    "print(x)\n",
    "type(x)"
   ]
  },
  {
   "cell_type": "markdown",
   "metadata": {},
   "source": [
    "**Boolean**"
   ]
  },
  {
   "cell_type": "code",
   "execution_count": 12,
   "metadata": {},
   "outputs": [
    {
     "name": "stdout",
     "output_type": "stream",
     "text": [
      "True\n"
     ]
    },
    {
     "data": {
      "text/plain": [
       "bool"
      ]
     },
     "execution_count": 12,
     "metadata": {},
     "output_type": "execute_result"
    }
   ],
   "source": [
    "x = True # this is highlighted in green because it is a key word\n",
    "print(x) \n",
    "type(x)"
   ]
  },
  {
   "cell_type": "code",
   "execution_count": 13,
   "metadata": {},
   "outputs": [
    {
     "name": "stdout",
     "output_type": "stream",
     "text": [
      "False\n"
     ]
    },
    {
     "data": {
      "text/plain": [
       "bool"
      ]
     },
     "execution_count": 13,
     "metadata": {},
     "output_type": "execute_result"
    }
   ],
   "source": [
    "x = False\n",
    "print(x) \n",
    "type(x)"
   ]
  },
  {
   "cell_type": "code",
   "execution_count": 27,
   "metadata": {},
   "outputs": [
    {
     "name": "stdout",
     "output_type": "stream",
     "text": [
      "True\n"
     ]
    },
    {
     "data": {
      "text/plain": [
       "str"
      ]
     },
     "execution_count": 27,
     "metadata": {},
     "output_type": "execute_result"
    }
   ],
   "source": [
    "x = \"True\" # In this case it is a string because we encapsulated in double quotes \n",
    "print(x)\n",
    "type(x)"
   ]
  },
  {
   "cell_type": "markdown",
   "metadata": {},
   "source": [
    "## Excercise: Data Types "
   ]
  },
  {
   "cell_type": "markdown",
   "metadata": {},
   "source": [
    "If at the end of the day you close your Jupyter notebook, the next time you open it, the content of any variable in the notebook will be flushed (although the lines of code you wrote the previous day will be present if you saved the notebook before closing it). \n",
    "\n",
    "Therefore, the next day, you can't simply select one cell in the middle of the notebook and run it because the content of all the variables will be empty and you will get an error. **You will have to run all the cells in order from the top to the bottom to fill again all your variables.**"
   ]
  },
  {
   "cell_type": "markdown",
   "metadata": {},
   "source": [
    "**1. For the following variables, use Python to check the data type of the variables.**"
   ]
  },
  {
   "cell_type": "code",
   "execution_count": 31,
   "metadata": {},
   "outputs": [],
   "source": [
    "x1 = 1.1\n",
    "\n",
    "x2 = \"Ironhack\"\n",
    "\n",
    "x3 = \"1.1\"\n",
    "\n",
    "x4 = True \n",
    "\n",
    "x5 = \"True\"\n",
    "\n",
    "x6 = -1"
   ]
  },
  {
   "cell_type": "code",
   "execution_count": 2,
   "metadata": {},
   "outputs": [
    {
     "ename": "NameError",
     "evalue": "name 'x1' is not defined",
     "output_type": "error",
     "traceback": [
      "\u001b[1;31m---------------------------------------------------------------------------\u001b[0m",
      "\u001b[1;31mNameError\u001b[0m                                 Traceback (most recent call last)",
      "\u001b[1;32m~\\AppData\\Local\\Temp\\ipykernel_5168\\1455782297.py\u001b[0m in \u001b[0;36m<module>\u001b[1;34m\u001b[0m\n\u001b[1;32m----> 1\u001b[1;33m \u001b[0mprint\u001b[0m\u001b[1;33m(\u001b[0m\u001b[0mx1\u001b[0m\u001b[1;33m)\u001b[0m\u001b[1;33m\u001b[0m\u001b[1;33m\u001b[0m\u001b[0m\n\u001b[0m",
      "\u001b[1;31mNameError\u001b[0m: name 'x1' is not defined"
     ]
    }
   ],
   "source": [
    "print(x1)"
   ]
  },
  {
   "cell_type": "markdown",
   "metadata": {},
   "source": [
    "**2. What is the difference between `x1` and `x3`?**"
   ]
  },
  {
   "cell_type": "code",
   "execution_count": null,
   "metadata": {},
   "outputs": [],
   "source": [
    "# 1.2 What is the difference between variables x1 and x3?\n",
    "# x1 is integer, x3 is a text"
   ]
  },
  {
   "cell_type": "markdown",
   "metadata": {},
   "source": [
    "**3.Substract `x3` from `x1`**"
   ]
  },
  {
   "cell_type": "code",
   "execution_count": null,
   "metadata": {},
   "outputs": [],
   "source": [
    "# 1.3 What happens if you subtract x3 from x1?\n",
    "x3-x1\n",
    "print()\n",
    "# categorical cannot be devided from numerical"
   ]
  },
  {
   "cell_type": "markdown",
   "metadata": {},
   "source": [
    "**4. What is the difference between `x4` and `x5`?**"
   ]
  },
  {
   "cell_type": "code",
   "execution_count": null,
   "metadata": {},
   "outputs": [],
   "source": [
    "x4 = True # is a key word\n",
    "\n",
    "x5 = \"True\" # x5 is a strinh"
   ]
  },
  {
   "cell_type": "markdown",
   "metadata": {},
   "source": [
    "**5.Substract `x4` from `x5`**"
   ]
  },
  {
   "cell_type": "code",
   "execution_count": 3,
   "metadata": {},
   "outputs": [
    {
     "ename": "NameError",
     "evalue": "name 'x5' is not defined",
     "output_type": "error",
     "traceback": [
      "\u001b[1;31m---------------------------------------------------------------------------\u001b[0m",
      "\u001b[1;31mNameError\u001b[0m                                 Traceback (most recent call last)",
      "\u001b[1;32m~\\AppData\\Local\\Temp\\ipykernel_5168\\2983872871.py\u001b[0m in \u001b[0;36m<module>\u001b[1;34m\u001b[0m\n\u001b[1;32m----> 1\u001b[1;33m \u001b[0mx5\u001b[0m\u001b[1;33m-\u001b[0m\u001b[0mx4\u001b[0m\u001b[1;33m\u001b[0m\u001b[1;33m\u001b[0m\u001b[0m\n\u001b[0m",
      "\u001b[1;31mNameError\u001b[0m: name 'x5' is not defined"
     ]
    }
   ],
   "source": [
    "x5-x4"
   ]
  },
  {
   "cell_type": "code",
   "execution_count": 4,
   "metadata": {},
   "outputs": [
    {
     "data": {
      "text/plain": [
       "0"
      ]
     },
     "execution_count": 4,
     "metadata": {},
     "output_type": "execute_result"
    }
   ],
   "source": [
    "True-True"
   ]
  },
  {
   "cell_type": "markdown",
   "metadata": {},
   "source": [
    "## Operators"
   ]
  },
  {
   "cell_type": "markdown",
   "metadata": {},
   "source": [
    "Operators are special symbols in Python that are used to perform certain operations such as mathematical operations, logical operations, and comparison operations. The value or the variables that the operator works on are called Operands. \n",
    "We will look at some of the more common operators that we use in Python. "
   ]
  },
  {
   "cell_type": "code",
   "execution_count": 39,
   "metadata": {},
   "outputs": [],
   "source": [
    "# We will define two variables here and use operators on them\n",
    "x = 10\n",
    "y = 5"
   ]
  },
  {
   "cell_type": "markdown",
   "metadata": {},
   "source": [
    "### Arithmetic operators "
   ]
  },
  {
   "cell_type": "markdown",
   "metadata": {},
   "source": [
    "These are used to perform mathematical operations as shown below:"
   ]
  },
  {
   "cell_type": "markdown",
   "metadata": {},
   "source": [
    "Here on the left hand side we have the operator and on the right we can see how they can be used with variables\n",
    "- `+` - Addition (x + y)\n",
    "- `-`\t- Subtraction (x - y)\n",
    "- `*`\t- Multiplication (x * y)\n",
    "- `/` - Division (x / y)\n",
    "- `%` - Modulus (x % y)\n",
    "- `**` - Exponentiation (x ** y)\n",
    "- `//` - Floor division (x // y)"
   ]
  },
  {
   "cell_type": "code",
   "execution_count": 40,
   "metadata": {},
   "outputs": [],
   "source": [
    "# You can try and test these operators as shown below "
   ]
  },
  {
   "cell_type": "code",
   "execution_count": 41,
   "metadata": {},
   "outputs": [
    {
     "data": {
      "text/plain": [
       "15"
      ]
     },
     "execution_count": 41,
     "metadata": {},
     "output_type": "execute_result"
    }
   ],
   "source": [
    "x+y"
   ]
  },
  {
   "cell_type": "code",
   "execution_count": 42,
   "metadata": {},
   "outputs": [
    {
     "data": {
      "text/plain": [
       "5"
      ]
     },
     "execution_count": 42,
     "metadata": {},
     "output_type": "execute_result"
    }
   ],
   "source": [
    "x-y"
   ]
  },
  {
   "cell_type": "code",
   "execution_count": 43,
   "metadata": {},
   "outputs": [
    {
     "data": {
      "text/plain": [
       "50"
      ]
     },
     "execution_count": 43,
     "metadata": {},
     "output_type": "execute_result"
    }
   ],
   "source": [
    "x*y"
   ]
  },
  {
   "cell_type": "code",
   "execution_count": 44,
   "metadata": {},
   "outputs": [
    {
     "data": {
      "text/plain": [
       "2.0"
      ]
     },
     "execution_count": 44,
     "metadata": {},
     "output_type": "execute_result"
    }
   ],
   "source": [
    "x/y"
   ]
  },
  {
   "cell_type": "code",
   "execution_count": 45,
   "metadata": {},
   "outputs": [
    {
     "data": {
      "text/plain": [
       "0"
      ]
     },
     "execution_count": 45,
     "metadata": {},
     "output_type": "execute_result"
    }
   ],
   "source": [
    "x%y # Gives the remainder"
   ]
  },
  {
   "cell_type": "code",
   "execution_count": 46,
   "metadata": {},
   "outputs": [
    {
     "data": {
      "text/plain": [
       "100000"
      ]
     },
     "execution_count": 46,
     "metadata": {},
     "output_type": "execute_result"
    }
   ],
   "source": [
    "x**y # 'y' times multiplication of 'x'"
   ]
  },
  {
   "cell_type": "code",
   "execution_count": 47,
   "metadata": {},
   "outputs": [
    {
     "data": {
      "text/plain": [
       "2"
      ]
     },
     "execution_count": 47,
     "metadata": {},
     "output_type": "execute_result"
    }
   ],
   "source": [
    "x // y # Rounds off the result to the lower interger value on the number line "
   ]
  },
  {
   "cell_type": "markdown",
   "metadata": {},
   "source": [
    "Python also has a `math` library that you can use to perform some more complex mathematical operations.\n",
    "Libraries in python contain some additional pre-defined functions that the user can directly.\n",
    "We will talk about libraries in more detail later."
   ]
  },
  {
   "cell_type": "markdown",
   "metadata": {},
   "source": [
    "Here we will show how to use [math library](https://docs.python.org/3/library/math.html) for some operations that we have looked at before ."
   ]
  },
  {
   "cell_type": "code",
   "execution_count": null,
   "metadata": {},
   "outputs": [],
   "source": [
    "# math — Mathematical functions¶\n",
    "# This module provides access to the mathematical functions defined by the C standard.\n",
    "\n",
    "# These functions cannot be used with complex numbers; use the functions of the same name from the cmath module if you require support for complex numbers. The distinction between functions which support complex numbers and those which don’t is made since most users do not want to learn quite as much mathematics as required to understand complex numbers. Receiving an exception instead of a complex result allows earlier detection of the unexpected complex number used as a parameter, so that the programmer can determine how and why it was generated in the first place.\n",
    "\n",
    "# The following functions are provided by this module. Except when explicitly noted otherwise, all return values are floats.\n",
    "\n",
    "# Number-theoretic and representation functions\n",
    "# math.ceil(x)\n",
    "# Return the ceiling of x, the smallest integer greater than or equal to x. If x is not a float, delegates to x.__ceil__, which should return an Integral value.\n",
    "\n",
    "# math.comb(n, k)\n",
    "# Return the number of ways to choose k items from n items without repetition and without order.\n",
    "\n",
    "# Evaluates to n! / (k! * (n - k)!) when k <= n and evaluates to zero when k > n.\n",
    "\n",
    "# Also called the binomial coefficient because it is equivalent to the coefficient of k-th term in polynomial expansion of (1 + x)ⁿ.\n",
    "\n",
    "# Raises TypeError if either of the arguments are not integers. Raises ValueError if either of the arguments are negative.\n",
    "\n",
    "# New in version 3.8.\n",
    "\n",
    "# math.copysign(x, y)\n",
    "# Return a float with the magnitude (absolute value) of x but the sign of y. On platforms that support signed zeros, copysign(1.0, -0.0) returns -1.0.\n",
    "\n",
    "# math.fabs(x)\n",
    "# Return the absolute value of x.\n",
    "\n",
    "# math.factorial(n)\n",
    "# Return n factorial as an integer. Raises ValueError if n is not integral or is negative.\n",
    "\n",
    "# Deprecated since version 3.9: Accepting floats with integral values (like 5.0) is deprecated.\n",
    "\n",
    "# math.floor(x)\n",
    "# Return the floor of x, the largest integer less than or equal to x. If x is not a float, delegates to x.__floor__, which should return an Integral value.\n",
    "\n",
    "# math.fmod(x, y)\n",
    "# Return fmod(x, y), as defined by the platform C library. Note that the Python expression x % y may not return the same result. The intent of the C standard is that fmod(x, y) be exactly (mathematically; to infinite precision) equal to x - n*y for some integer n such that the result has the same sign as x and magnitude less than abs(y). Python’s x % y returns a result with the sign of y instead, and may not be exactly computable for float arguments. For example, fmod(-1e-100, 1e100) is -1e-100, but the result of Python’s -1e-100 % 1e100 is 1e100-1e-100, which cannot be represented exactly as a float, and rounds to the surprising 1e100. For this reason, function fmod() is generally preferred when working with floats, while Python’s x % y is preferred when working with integers.\n",
    "\n",
    "# math.frexp(x)\n",
    "# Return the mantissa and exponent of x as the pair (m, e). m is a float and e is an integer such that x == m * 2**e exactly. If x is zero, returns (0.0, 0), otherwise 0.5 <= abs(m) < 1. This is used to “pick apart” the internal representation of a float in a portable way.\n",
    "\n",
    "# math.fsum(iterable)\n",
    "# Return an accurate floating point sum of values in the iterable. Avoids loss of precision by tracking multiple intermediate partial sums:\n",
    "\n",
    "# >>>\n",
    "# sum([.1, .1, .1, .1, .1, .1, .1, .1, .1, .1])\n",
    "# 0.9999999999999999\n",
    "# fsum([.1, .1, .1, .1, .1, .1, .1, .1, .1, .1])\n",
    "# 1.0\n",
    "# The algorithm’s accuracy depends on IEEE-754 arithmetic guarantees and the typical case where the rounding mode is half-even. On some non-Windows builds, the underlying C library uses extended precision addition and may occasionally double-round an intermediate sum causing it to be off in its least significant bit.\n",
    "\n",
    "# For further discussion and two alternative approaches, see the ASPN cookbook recipes for accurate floating point summation.\n",
    "\n",
    "# math.gcd(*integers)\n",
    "# Return the greatest common divisor of the specified integer arguments. If any of the arguments is nonzero, then the returned value is the largest positive integer that is a divisor of all arguments. If all arguments are zero, then the returned value is 0. gcd() without arguments returns 0.\n",
    "\n",
    "# New in version 3.5.\n",
    "\n",
    "# Changed in version 3.9: Added support for an arbitrary number of arguments. Formerly, only two arguments were supported.\n",
    "\n",
    "# math.isclose(a, b, *, rel_tol=1e-09, abs_tol=0.0)\n",
    "# Return True if the values a and b are close to each other and False otherwise.\n",
    "\n",
    "# Whether or not two values are considered close is determined according to given absolute and relative tolerances.\n",
    "\n",
    "# rel_tol is the relative tolerance – it is the maximum allowed difference between a and b, relative to the larger absolute value of a or b. For example, to set a tolerance of 5%, pass rel_tol=0.05. The default tolerance is 1e-09, which assures that the two values are the same within about 9 decimal digits. rel_tol must be greater than zero.\n",
    "\n",
    "# abs_tol is the minimum absolute tolerance – useful for comparisons near zero. abs_tol must be at least zero.\n",
    "\n",
    "# If no errors occur, the result will be: abs(a-b) <= max(rel_tol * max(abs(a), abs(b)), abs_tol).\n",
    "\n",
    "# The IEEE 754 special values of NaN, inf, and -inf will be handled according to IEEE rules. Specifically, NaN is not considered close to any other value, including NaN. inf and -inf are only considered close to themselves.\n",
    "\n",
    "# New in version 3.5.\n",
    "\n",
    "# See also PEP 485 – A function for testing approximate equality\n",
    "# math.isfinite(x)\n",
    "# Return True if x is neither an infinity nor a NaN, and False otherwise. (Note that 0.0 is considered finite.)\n",
    "\n",
    "# New in version 3.2.\n",
    "\n",
    "# math.isinf(x)\n",
    "# Return True if x is a positive or negative infinity, and False otherwise.\n",
    "\n",
    "# math.isnan(x)\n",
    "# Return True if x is a NaN (not a number), and False otherwise.\n",
    "\n",
    "# math.isqrt(n)\n",
    "# Return the integer square root of the nonnegative integer n. This is the floor of the exact square root of n, or equivalently the greatest integer a such that a² ≤ n.\n",
    "\n",
    "# For some applications, it may be more convenient to have the least integer a such that n ≤ a², or in other words the ceiling of the exact square root of n. For positive n, this can be computed using a = 1 + isqrt(n - 1).\n",
    "\n",
    "# New in version 3.8.\n",
    "\n",
    "# math.lcm(*integers)\n",
    "# Return the least common multiple of the specified integer arguments. If all arguments are nonzero, then the returned value is the smallest positive integer that is a multiple of all arguments. If any of the arguments is zero, then the returned value is 0. lcm() without arguments returns 1.\n",
    "\n",
    "# New in version 3.9.\n",
    "\n",
    "# math.ldexp(x, i)\n",
    "# Return x * (2**i). This is essentially the inverse of function frexp().\n",
    "\n",
    "# math.modf(x)\n",
    "# Return the fractional and integer parts of x. Both results carry the sign of x and are floats.\n",
    "\n",
    "# math.nextafter(x, y)\n",
    "# Return the next floating-point value after x towards y.\n",
    "\n",
    "# If x is equal to y, return y.\n",
    "\n",
    "# Examples:\n",
    "\n",
    "# math.nextafter(x, math.inf) goes up: towards positive infinity.\n",
    "\n",
    "# math.nextafter(x, -math.inf) goes down: towards minus infinity.\n",
    "\n",
    "# math.nextafter(x, 0.0) goes towards zero.\n",
    "\n",
    "# math.nextafter(x, math.copysign(math.inf, x)) goes away from zero.\n",
    "\n",
    "# See also math.ulp().\n",
    "\n",
    "# New in version 3.9.\n",
    "\n",
    "# math.perm(n, k=None)\n",
    "# Return the number of ways to choose k items from n items without repetition and with order.\n",
    "\n",
    "# Evaluates to n! / (n - k)! when k <= n and evaluates to zero when k > n.\n",
    "\n",
    "# If k is not specified or is None, then k defaults to n and the function returns n!.\n",
    "\n",
    "# Raises TypeError if either of the arguments are not integers. Raises ValueError if either of the arguments are negative.\n",
    "\n",
    "# New in version 3.8.\n",
    "\n",
    "# math.prod(iterable, *, start=1)\n",
    "# Calculate the product of all the elements in the input iterable. The default start value for the product is 1.\n",
    "\n",
    "# When the iterable is empty, return the start value. This function is intended specifically for use with numeric values and may reject non-numeric types.\n",
    "\n",
    "# New in version 3.8.\n",
    "\n",
    "# math.remainder(x, y)\n",
    "# Return the IEEE 754-style remainder of x with respect to y. For finite x and finite nonzero y, this is the difference x - n*y, where n is the closest integer to the exact value of the quotient x / y. If x / y is exactly halfway between two consecutive integers, the nearest even integer is used for n. The remainder r = remainder(x, y) thus always satisfies abs(r) <= 0.5 * abs(y).\n",
    "\n",
    "# Special cases follow IEEE 754: in particular, remainder(x, math.inf) is x for any finite x, and remainder(x, 0) and remainder(math.inf, x) raise ValueError for any non-NaN x. If the result of the remainder operation is zero, that zero will have the same sign as x.\n",
    "\n",
    "# On platforms using IEEE 754 binary floating-point, the result of this operation is always exactly representable: no rounding error is introduced.\n",
    "\n",
    "# New in version 3.7.\n",
    "\n",
    "# math.trunc(x)\n",
    "# Return x with the fractional part removed, leaving the integer part. This rounds toward 0: trunc() is equivalent to floor() for positive x, and equivalent to ceil() for negative x. If x is not a float, delegates to x.__trunc__, which should return an Integral value.\n",
    "\n",
    "# math.ulp(x)\n",
    "# Return the value of the least significant bit of the float x:\n",
    "\n",
    "# If x is a NaN (not a number), return x.\n",
    "\n",
    "# If x is negative, return ulp(-x).\n",
    "\n",
    "# If x is a positive infinity, return x.\n",
    "\n",
    "# If x is equal to zero, return the smallest positive denormalized representable float (smaller than the minimum positive normalized float, sys.float_info.min).\n",
    "\n",
    "# If x is equal to the largest positive representable float, return the value of the least significant bit of x, such that the first float smaller than x is x - ulp(x).\n",
    "\n",
    "# Otherwise (x is a positive finite number), return the value of the least significant bit of x, such that the first float bigger than x is x + ulp(x).\n",
    "\n",
    "# ULP stands for “Unit in the Last Place”.\n",
    "\n",
    "# See also math.nextafter() and sys.float_info.epsilon.\n",
    "\n",
    "# New in version 3.9.\n",
    "\n",
    "# Note that frexp() and modf() have a different call/return pattern than their C equivalents: they take a single argument and return a pair of values, rather than returning their second return value through an ‘output parameter’ (there is no such thing in Python).\n",
    "\n",
    "# For the ceil(), floor(), and modf() functions, note that all floating-point numbers of sufficiently large magnitude are exact integers. Python floats typically carry no more than 53 bits of precision (the same as the platform C double type), in which case any float x with abs(x) >= 2**52 necessarily has no fractional bits.\n",
    "\n",
    "# Power and logarithmic functions\n",
    "# math.cbrt(x)\n",
    "# Return the cube root of x.\n",
    "\n",
    "# New in version 3.11.\n",
    "\n",
    "# math.exp(x)\n",
    "# Return e raised to the power x, where e = 2.718281… is the base of natural logarithms. This is usually more accurate than math.e ** x or pow(math.e, x).\n",
    "\n",
    "# math.exp2(x)\n",
    "# Return 2 raised to the power x.\n",
    "\n",
    "# New in version 3.11.\n",
    "\n",
    "# math.expm1(x)\n",
    "# Return e raised to the power x, minus 1. Here e is the base of natural logarithms. For small floats x, the subtraction in exp(x) - 1 can result in a significant loss of precision; the expm1() function provides a way to compute this quantity to full precision:\n",
    "\n",
    "# >>>\n",
    "# from math import exp, expm1\n",
    "# exp(1e-5) - 1  # gives result accurate to 11 places\n",
    "# 1.0000050000069649e-05\n",
    "# expm1(1e-5)    # result accurate to full precision\n",
    "# 1.0000050000166668e-05\n",
    "# New in version 3.2.\n",
    "\n",
    "# math.log(x[, base])\n",
    "# With one argument, return the natural logarithm of x (to base e).\n",
    "\n",
    "# With two arguments, return the logarithm of x to the given base, calculated as log(x)/log(base).\n",
    "\n",
    "# math.log1p(x)\n",
    "# Return the natural logarithm of 1+x (base e). The result is calculated in a way which is accurate for x near zero.\n",
    "\n",
    "# math.log2(x)\n",
    "# Return the base-2 logarithm of x. This is usually more accurate than log(x, 2).\n",
    "\n",
    "# New in version 3.3.\n",
    "\n",
    "# See also int.bit_length() returns the number of bits necessary to represent an integer in binary, excluding the sign and leading zeros.\n",
    "# math.log10(x)\n",
    "# Return the base-10 logarithm of x. This is usually more accurate than log(x, 10).\n",
    "\n",
    "# math.pow(x, y)\n",
    "# Return x raised to the power y. Exceptional cases follow the IEEE 754 standard as far as possible. In particular, pow(1.0, x) and pow(x, 0.0) always return 1.0, even when x is a zero or a NaN. If both x and y are finite, x is negative, and y is not an integer then pow(x, y) is undefined, and raises ValueError.\n",
    "\n",
    "# Unlike the built-in ** operator, math.pow() converts both its arguments to type float. Use ** or the built-in pow() function for computing exact integer powers.\n",
    "\n",
    "# Changed in version 3.11: The special cases pow(0.0, -inf) and pow(-0.0, -inf) were changed to return inf instead of raising ValueError, for consistency with IEEE 754.\n",
    "\n",
    "# math.sqrt(x)\n",
    "# Return the square root of x.\n",
    "\n",
    "# Trigonometric functions\n",
    "# math.acos(x)\n",
    "# Return the arc cosine of x, in radians. The result is between 0 and pi.\n",
    "\n",
    "# math.asin(x)\n",
    "# Return the arc sine of x, in radians. The result is between -pi/2 and pi/2.\n",
    "\n",
    "# math.atan(x)\n",
    "# Return the arc tangent of x, in radians. The result is between -pi/2 and pi/2.\n",
    "\n",
    "# math.atan2(y, x)\n",
    "# Return atan(y / x), in radians. The result is between -pi and pi. The vector in the plane from the origin to point (x, y) makes this angle with the positive X axis. The point of atan2() is that the signs of both inputs are known to it, so it can compute the correct quadrant for the angle. For example, atan(1) and atan2(1, 1) are both pi/4, but atan2(-1, -1) is -3*pi/4.\n",
    "\n",
    "# math.cos(x)\n",
    "# Return the cosine of x radians.\n",
    "\n",
    "# math.dist(p, q)\n",
    "# Return the Euclidean distance between two points p and q, each given as a sequence (or iterable) of coordinates. The two points must have the same dimension.\n",
    "\n",
    "# Roughly equivalent to:\n",
    "\n",
    "# sqrt(sum((px - qx) ** 2.0 for px, qx in zip(p, q)))\n",
    "# New in version 3.8.\n",
    "\n",
    "# math.hypot(*coordinates)\n",
    "# Return the Euclidean norm, sqrt(sum(x**2 for x in coordinates)). This is the length of the vector from the origin to the point given by the coordinates.\n",
    "\n",
    "# For a two dimensional point (x, y), this is equivalent to computing the hypotenuse of a right triangle using the Pythagorean theorem, sqrt(x*x + y*y).\n",
    "\n",
    "# Changed in version 3.8: Added support for n-dimensional points. Formerly, only the two dimensional case was supported.\n",
    "\n",
    "# Changed in version 3.10: Improved the algorithm’s accuracy so that the maximum error is under 1 ulp (unit in the last place). More typically, the result is almost always correctly rounded to within 1/2 ulp.\n",
    "\n",
    "# math.sin(x)\n",
    "# Return the sine of x radians.\n",
    "\n",
    "# math.tan(x)\n",
    "# Return the tangent of x radians.\n",
    "\n",
    "# Angular conversion\n",
    "# math.degrees(x)\n",
    "# Convert angle x from radians to degrees.\n",
    "\n",
    "# math.radians(x)\n",
    "# Convert angle x from degrees to radians.\n",
    "\n",
    "# Hyperbolic functions\n",
    "# Hyperbolic functions are analogs of trigonometric functions that are based on hyperbolas instead of circles.\n",
    "\n",
    "# math.acosh(x)\n",
    "# Return the inverse hyperbolic cosine of x.\n",
    "\n",
    "# math.asinh(x)\n",
    "# Return the inverse hyperbolic sine of x.\n",
    "\n",
    "# math.atanh(x)\n",
    "# Return the inverse hyperbolic tangent of x.\n",
    "\n",
    "# math.cosh(x)\n",
    "# Return the hyperbolic cosine of x.\n",
    "\n",
    "# math.sinh(x)\n",
    "# Return the hyperbolic sine of x.\n",
    "\n",
    "# math.tanh(x)\n",
    "# Return the hyperbolic tangent of x.\n",
    "\n",
    "# Special functions\n",
    "# math.erf(x)\n",
    "# Return the error function at x.\n",
    "\n",
    "# The erf() function can be used to compute traditional statistical functions such as the cumulative standard normal distribution:\n",
    "\n",
    "# def phi(x):\n",
    "#     'Cumulative distribution function for the standard normal distribution'\n",
    "#     return (1.0 + erf(x / sqrt(2.0))) / 2.0\n",
    "# New in version 3.2.\n",
    "\n",
    "# math.erfc(x)\n",
    "# Return the complementary error function at x. The complementary error function is defined as 1.0 - erf(x). It is used for large values of x where a subtraction from one would cause a loss of significance.\n",
    "\n",
    "# New in version 3.2.\n",
    "\n",
    "# math.gamma(x)\n",
    "# Return the Gamma function at x.\n",
    "\n",
    "# New in version 3.2.\n",
    "\n",
    "# math.lgamma(x)\n",
    "# Return the natural logarithm of the absolute value of the Gamma function at x.\n",
    "\n",
    "# New in version 3.2.\n",
    "\n",
    "# Constants\n",
    "# math.pi\n",
    "# The mathematical constant π = 3.141592…, to available precision.\n",
    "\n",
    "# math.e\n",
    "# The mathematical constant e = 2.718281…, to available precision.\n",
    "\n",
    "# math.tau\n",
    "# The mathematical constant τ = 6.283185…, to available precision. Tau is a circle constant equal to 2π, the ratio of a circle’s circumference to its radius. To learn more about Tau, check out Vi Hart’s video Pi is (still) Wrong, and start celebrating Tau day by eating twice as much pie!\n",
    "\n",
    "# New in version 3.6.\n",
    "\n",
    "# math.inf\n",
    "# A floating-point positive infinity. (For negative infinity, use -math.inf.) Equivalent to the output of float('inf').\n",
    "\n",
    "# New in version 3.5.\n",
    "\n",
    "# math.nan\n",
    "# A floating-point “not a number” (NaN) value. Equivalent to the output of float('nan'). Due to the requirements of the IEEE-754 standard, math.nan and float('nan') are not considered to equal to any other numeric value, including themselves. To check whether a number is a NaN, use the isnan() function to test for NaNs instead of is or ==. Example:\n",
    "\n",
    "# >>>\n",
    "# import math\n",
    "# math.nan == math.nan\n",
    "# False\n",
    "# float('nan') == float('nan')\n",
    "# False\n",
    "# math.isnan(math.nan)\n",
    "# True\n",
    "# math.isnan(float('nan'))\n",
    "# True\n",
    "# Changed in version 3.11: It is now always available.\n",
    "\n",
    "# New in version 3.5.\n",
    "\n",
    "# CPython implementation detail: The math module consists mostly of thin wrappers around the platform C math library functions. Behavior in exceptional cases follows Annex F of the C99 standard where appropriate. The current implementation will raise ValueError for invalid operations like sqrt(-1.0) or log(0.0) (where C99 Annex F recommends signaling invalid operation or divide-by-zero), and OverflowError for results that overflow (for example, exp(1000.0)). A NaN will not be returned from any of the functions above unless one or more of the input arguments was a NaN; in that case, most functions will return a NaN, but (again following C99 Annex F) there are some exceptions to this rule, for example pow(float('nan'), 0.0) or hypot(float('nan'), float('inf')).\n",
    "\n",
    "# Note that Python makes no effort to distinguish signaling NaNs from quiet NaNs, and behavior for signaling NaNs remains unspecified. Typical behavior is to treat all NaNs as though they were quiet.\n",
    "\n",
    "# See also\n",
    "# Module cmath\n",
    "# Complex number versions of many of these functions."
   ]
  },
  {
   "cell_type": "code",
   "execution_count": 49,
   "metadata": {},
   "outputs": [
    {
     "data": {
      "text/plain": [
       "2"
      ]
     },
     "execution_count": 49,
     "metadata": {},
     "output_type": "execute_result"
    }
   ],
   "source": [
    "import math # This is the way to have access to all the functions included in the `math` library\n",
    "math.floor(2.9) # This is the same as 'floor division' operator that we used earlier "
   ]
  },
  {
   "cell_type": "code",
   "execution_count": 50,
   "metadata": {},
   "outputs": [
    {
     "data": {
      "text/plain": [
       "8.0"
      ]
     },
     "execution_count": 50,
     "metadata": {},
     "output_type": "execute_result"
    }
   ],
   "source": [
    "# This is the same as 'Exponentiation' operator that we used earlier. \n",
    "# In this case, the function takes two arguments separated by ','. The first one is the base, \n",
    "# and the second is the power. In the example, below we're computing: 2**3\n",
    "math.pow(2,3) "
   ]
  },
  {
   "cell_type": "code",
   "execution_count": 52,
   "metadata": {},
   "outputs": [
    {
     "data": {
      "text/plain": [
       "3.0"
      ]
     },
     "execution_count": 52,
     "metadata": {},
     "output_type": "execute_result"
    }
   ],
   "source": [
    "math.sqrt(9) #This returns the square root"
   ]
  },
  {
   "cell_type": "markdown",
   "metadata": {},
   "source": [
    "### Assignment Operators"
   ]
  },
  {
   "cell_type": "markdown",
   "metadata": {},
   "source": [
    "These are used to assign values to variables. We have already seen it before when we talked about 'Variables' and 'Data Types'"
   ]
  },
  {
   "cell_type": "code",
   "execution_count": 57,
   "metadata": {},
   "outputs": [
    {
     "name": "stdout",
     "output_type": "stream",
     "text": [
      "10\n"
     ]
    }
   ],
   "source": [
    "x = 10\n",
    "print(x)"
   ]
  },
  {
   "cell_type": "markdown",
   "metadata": {},
   "source": [
    "Some special assignment operators assign the value and perform a simple mathematical operation at the same time. They are shown below:"
   ]
  },
  {
   "cell_type": "raw",
   "metadata": {},
   "source": [
    "x += 3  is equivalent to x = x + 3"
   ]
  },
  {
   "cell_type": "code",
   "execution_count": 42,
   "metadata": {},
   "outputs": [
    {
     "name": "stdout",
     "output_type": "stream",
     "text": [
      "13\n"
     ]
    }
   ],
   "source": [
    "x = 10\n",
    "x+=3\n",
    "print(x)"
   ]
  },
  {
   "cell_type": "code",
   "execution_count": 43,
   "metadata": {},
   "outputs": [
    {
     "name": "stdout",
     "output_type": "stream",
     "text": [
      "7\n"
     ]
    }
   ],
   "source": [
    "x = 10\n",
    "x-=3\n",
    "print(x)"
   ]
  },
  {
   "cell_type": "code",
   "execution_count": 44,
   "metadata": {},
   "outputs": [
    {
     "name": "stdout",
     "output_type": "stream",
     "text": [
      "30\n"
     ]
    }
   ],
   "source": [
    "x = 10\n",
    "x*=3\n",
    "print(x)"
   ]
  },
  {
   "cell_type": "code",
   "execution_count": 45,
   "metadata": {},
   "outputs": [
    {
     "name": "stdout",
     "output_type": "stream",
     "text": [
      "3.3333333333333335\n"
     ]
    }
   ],
   "source": [
    "x = 10\n",
    "x/=3\n",
    "print(x)"
   ]
  },
  {
   "cell_type": "code",
   "execution_count": 46,
   "metadata": {},
   "outputs": [
    {
     "name": "stdout",
     "output_type": "stream",
     "text": [
      "1\n"
     ]
    }
   ],
   "source": [
    "x = 10\n",
    "x%=3\n",
    "print(x)"
   ]
  },
  {
   "cell_type": "markdown",
   "metadata": {},
   "source": [
    "### Comparison Operators"
   ]
  },
  {
   "cell_type": "markdown",
   "metadata": {},
   "source": [
    "These are to make a comparison between two variables. They return a boolean value, either True or False.\n",
    "Returns `True` if the condition is met, otherwise returns a `False`."
   ]
  },
  {
   "cell_type": "raw",
   "metadata": {},
   "source": [
    "==  Equal   x == y \n",
    "!=  Not equal  x != y \n",
    ">   Greater than  x > y \n",
    "<   Less than  x < y \n",
    ">=  Greater than or equal to  x >= y\n",
    "<=  Less than or equal to  x <= y"
   ]
  },
  {
   "cell_type": "code",
   "execution_count": 58,
   "metadata": {},
   "outputs": [],
   "source": [
    "x = 10  # Initialize variable `x` with a value 10\n",
    "y = 5   # Initialize variable `y` with a value 5"
   ]
  },
  {
   "cell_type": "code",
   "execution_count": 59,
   "metadata": {},
   "outputs": [
    {
     "data": {
      "text/plain": [
       "False"
      ]
     },
     "execution_count": 59,
     "metadata": {},
     "output_type": "execute_result"
    }
   ],
   "source": [
    "x == y"
   ]
  },
  {
   "cell_type": "code",
   "execution_count": 60,
   "metadata": {},
   "outputs": [
    {
     "data": {
      "text/plain": [
       "True"
      ]
     },
     "execution_count": 60,
     "metadata": {},
     "output_type": "execute_result"
    }
   ],
   "source": [
    "x != y"
   ]
  },
  {
   "cell_type": "code",
   "execution_count": 61,
   "metadata": {},
   "outputs": [
    {
     "data": {
      "text/plain": [
       "True"
      ]
     },
     "execution_count": 61,
     "metadata": {},
     "output_type": "execute_result"
    }
   ],
   "source": [
    "x > y"
   ]
  },
  {
   "cell_type": "code",
   "execution_count": 62,
   "metadata": {},
   "outputs": [
    {
     "data": {
      "text/plain": [
       "True"
      ]
     },
     "execution_count": 62,
     "metadata": {},
     "output_type": "execute_result"
    }
   ],
   "source": [
    "x >= y"
   ]
  },
  {
   "cell_type": "code",
   "execution_count": 63,
   "metadata": {},
   "outputs": [
    {
     "data": {
      "text/plain": [
       "False"
      ]
     },
     "execution_count": 63,
     "metadata": {},
     "output_type": "execute_result"
    }
   ],
   "source": [
    "x<y"
   ]
  },
  {
   "cell_type": "code",
   "execution_count": 64,
   "metadata": {},
   "outputs": [
    {
     "data": {
      "text/plain": [
       "False"
      ]
     },
     "execution_count": 64,
     "metadata": {},
     "output_type": "execute_result"
    }
   ],
   "source": [
    "x <= y"
   ]
  },
  {
   "cell_type": "markdown",
   "metadata": {},
   "source": [
    "### Logical Operators"
   ]
  },
  {
   "cell_type": "markdown",
   "metadata": {},
   "source": [
    "These operators are used to combine two or more comparison operations.  \n",
    "It returns True if all the conditions are met.  \n",
    "Returns a False if any one of the multiple conditions is not met.  "
   ]
  },
  {
   "cell_type": "code",
   "execution_count": 76,
   "metadata": {},
   "outputs": [],
   "source": [
    "x = 10 # First we will initialize variable `x` with a value 10. "
   ]
  },
  {
   "cell_type": "markdown",
   "metadata": {},
   "source": [
    "**and**"
   ]
  },
  {
   "cell_type": "raw",
   "metadata": {},
   "source": [
    "Returns True if both statements are true   \n",
    "x < 5 and x < 10 "
   ]
  },
  {
   "cell_type": "code",
   "execution_count": 73,
   "metadata": {
    "scrolled": true
   },
   "outputs": [
    {
     "data": {
      "text/plain": [
       "False"
      ]
     },
     "execution_count": 73,
     "metadata": {},
     "output_type": "execute_result"
    }
   ],
   "source": [
    "x < 5 and x < 10 "
   ]
  },
  {
   "cell_type": "code",
   "execution_count": 77,
   "metadata": {
    "scrolled": true
   },
   "outputs": [
    {
     "data": {
      "text/plain": [
       "True"
      ]
     },
     "execution_count": 77,
     "metadata": {},
     "output_type": "execute_result"
    }
   ],
   "source": [
    "x > 5 and x < 20"
   ]
  },
  {
   "cell_type": "markdown",
   "metadata": {},
   "source": [
    "**or**"
   ]
  },
  {
   "cell_type": "raw",
   "metadata": {},
   "source": [
    "Returns True if one of the statements is true     \n",
    "x < 5 or x < 4 "
   ]
  },
  {
   "cell_type": "code",
   "execution_count": 86,
   "metadata": {},
   "outputs": [
    {
     "data": {
      "text/plain": [
       "False"
      ]
     },
     "execution_count": 86,
     "metadata": {},
     "output_type": "execute_result"
    }
   ],
   "source": [
    "x < 5 or x > 12"
   ]
  },
  {
   "cell_type": "code",
   "execution_count": 88,
   "metadata": {},
   "outputs": [
    {
     "data": {
      "text/plain": [
       "True"
      ]
     },
     "execution_count": 88,
     "metadata": {},
     "output_type": "execute_result"
    }
   ],
   "source": [
    "x == 10 or x > 12"
   ]
  },
  {
   "cell_type": "markdown",
   "metadata": {},
   "source": [
    "**not**"
   ]
  },
  {
   "cell_type": "raw",
   "metadata": {},
   "source": [
    "Reverse the result, returns False if the result is true  \n",
    "not(x < 5 and x < 10)"
   ]
  },
  {
   "cell_type": "code",
   "execution_count": 90,
   "metadata": {},
   "outputs": [
    {
     "data": {
      "text/plain": [
       "True"
      ]
     },
     "execution_count": 90,
     "metadata": {},
     "output_type": "execute_result"
    }
   ],
   "source": [
    "not(x < 5 or x > 12)"
   ]
  },
  {
   "cell_type": "code",
   "execution_count": 91,
   "metadata": {},
   "outputs": [
    {
     "data": {
      "text/plain": [
       "False"
      ]
     },
     "execution_count": 91,
     "metadata": {},
     "output_type": "execute_result"
    }
   ],
   "source": [
    "not(x == 10 or x > 12)"
   ]
  },
  {
   "cell_type": "markdown",
   "metadata": {},
   "source": [
    "## More Resources:"
   ]
  },
  {
   "cell_type": "markdown",
   "metadata": {},
   "source": [
    "https://www.programiz.com/python-programming/operators"
   ]
  },
  {
   "cell_type": "markdown",
   "metadata": {},
   "source": [
    "https://www.tutorialspoint.com/python/python_basic_operators.htm"
   ]
  },
  {
   "cell_type": "markdown",
   "metadata": {},
   "source": [
    "# Exercise Operators\n",
    "\n",
    "\n",
    "\n",
    "\n",
    "\n",
    "\n",
    "\n",
    "\n",
    "\n",
    "\n"
   ]
  },
  {
   "cell_type": "markdown",
   "metadata": {},
   "source": [
    "**1. In this problem we will show you how to take a user input. Use the code and then answer the questions \n",
    "that follow:**"
   ]
  },
  {
   "cell_type": "raw",
   "metadata": {},
   "source": [
    "x1 = input(\"Please enter an integer number:7 \")\n",
    "\n",
    "x2 = input(\"Please enter another integer number\")8\n",
    "\n",
    "Print the values of the two variables?\n",
    "What is the data type of `x1` and `x2`?\n",
    "\n",
    "As you would notice, data type of `x1` and `x2` is string. Even though we entered integers, the input function\n",
    "converts them into string by default. Now we do some data type conversion from string to integers\n",
    "\n",
    "x1 = int(x1)  # This converts string into integer and re-initializes `x1`\n",
    "x2 = int(x2)  # This converts string into integer and re-initializes `x2`\n",
    "\n",
    "Print the values of the two variables?\n",
    "What is the data type of `x1` and `x2`?\n",
    "\n",
    "Now perform simple comparisons between `x1` and `x2`\n",
    "\n",
    "    Check if the two variables are equal ?\n",
    "    \n",
    "    Check if `x1` is greater than `x2`?\n",
    "    \n",
    "    Check if `x2` is greater than `x1`?\n",
    "    \n",
    "    Check if `x1` is not equal to `x2`?\n",
    "    \n",
    "\n",
    "Store the difference between the two varibles `x1` and `x2` in another variable `x3` \n",
    "(subtract the smaller number from the larger number)\n",
    "\n",
    "Increment the smaller of the two variables (`x1` and `x2`) with the difference. Again check if `x1` and `x2`\n",
    "are equal or not?"
   ]
  },
  {
   "cell_type": "code",
   "execution_count": 10,
   "metadata": {},
   "outputs": [],
   "source": [
    "# Print the values of the two variables?\n",
    "# What is the data type of `x1` and `x2`?\n",
    "# x1 = input(7)\n",
    "\n",
    "# x2 = input(8)\n",
    "# type(x1)\n",
    "# type(x2)"
   ]
  },
  {
   "cell_type": "code",
   "execution_count": 9,
   "metadata": {},
   "outputs": [],
   "source": [
    "# x1 = int(x1)  # This converts string into integer and re-initializes `x1`\n",
    "# x2 = int(x2)  # This converts string into integer and re-initializes `x2`"
   ]
  },
  {
   "cell_type": "code",
   "execution_count": 11,
   "metadata": {},
   "outputs": [],
   "source": [
    "x1 = 7\n",
    "x2 = 8"
   ]
  },
  {
   "cell_type": "code",
   "execution_count": 13,
   "metadata": {},
   "outputs": [
    {
     "data": {
      "text/plain": [
       "False"
      ]
     },
     "execution_count": 13,
     "metadata": {},
     "output_type": "execute_result"
    }
   ],
   "source": [
    "x1 == x2\n"
   ]
  },
  {
   "cell_type": "code",
   "execution_count": 15,
   "metadata": {},
   "outputs": [
    {
     "data": {
      "text/plain": [
       "False"
      ]
     },
     "execution_count": 15,
     "metadata": {},
     "output_type": "execute_result"
    }
   ],
   "source": [
    "x1 > x2\n"
   ]
  },
  {
   "cell_type": "code",
   "execution_count": 16,
   "metadata": {},
   "outputs": [
    {
     "data": {
      "text/plain": [
       "True"
      ]
     },
     "execution_count": 16,
     "metadata": {},
     "output_type": "execute_result"
    }
   ],
   "source": [
    "x2 > x1 \n"
   ]
  },
  {
   "cell_type": "code",
   "execution_count": 17,
   "metadata": {},
   "outputs": [
    {
     "data": {
      "text/plain": [
       "True"
      ]
     },
     "execution_count": 17,
     "metadata": {},
     "output_type": "execute_result"
    }
   ],
   "source": [
    "x1 != x2"
   ]
  },
  {
   "cell_type": "markdown",
   "metadata": {},
   "source": [
    "**2. In the lesson we talked about 'math' library in python. [Here](https://docs.python.org/3/library/math.html) is a link to the documenation of this library. \n",
    "Go through the documentation and try any three more functions on a numerical variable that were not described \n",
    "in the lesson.**\n"
   ]
  },
  {
   "cell_type": "code",
   "execution_count": 5,
   "metadata": {},
   "outputs": [
    {
     "name": "stdout",
     "output_type": "stream",
     "text": [
      "2\n",
      "6\n",
      "-5\n",
      "23\n",
      "10\n"
     ]
    }
   ],
   "source": [
    "#Import math library\n",
    "import math\n",
    "\n",
    "#Round a number upward to its nearest integer\n",
    "print(math.ceil(1.4))\n",
    "print(math.ceil(5.3))\n",
    "print(math.ceil(-5.3))\n",
    "print(math.ceil(22.6))\n",
    "print(math.ceil(10.0))\n"
   ]
  },
  {
   "cell_type": "code",
   "execution_count": 18,
   "metadata": {},
   "outputs": [
    {
     "name": "stdout",
     "output_type": "stream",
     "text": [
      "15.0\n",
      "1340.0\n",
      "8.0\n"
     ]
    }
   ],
   "source": [
    "# Import math Library\n",
    "import math\n",
    "\n",
    "# Print the sum of all items\n",
    "print(math.fsum([1, 2, 3, 4, 5]))\n",
    "print(math.fsum([100, 400, 340, 500]))\n",
    "print(math.fsum([1.7, 0.3, 1.5, 4.5]))"
   ]
  },
  {
   "cell_type": "code",
   "execution_count": 19,
   "metadata": {},
   "outputs": [
    {
     "name": "stdout",
     "output_type": "stream",
     "text": [
      "False\n",
      "True\n",
      "False\n",
      "True\n"
     ]
    }
   ],
   "source": [
    "#Import math Library\n",
    "import math\n",
    "\n",
    "#compare the closeness of two values\n",
    "print(math.isclose(1.233, 1.4566))\n",
    "print(math.isclose(1.233, 1.233))\n",
    "print(math.isclose(1.233, 1.24))\n",
    "print(math.isclose(1.233, 1.233000001))"
   ]
  },
  {
   "cell_type": "markdown",
   "metadata": {},
   "source": [
    "## Additional Material "
   ]
  },
  {
   "cell_type": "raw",
   "metadata": {},
   "source": [
    "The students will not be tested on these in the pre-work assessment!!"
   ]
  },
  {
   "cell_type": "code",
   "execution_count": 128,
   "metadata": {},
   "outputs": [],
   "source": [
    "# We will talk about these later in the bootcamp. The definitions are below for your reference."
   ]
  },
  {
   "cell_type": "code",
   "execution_count": 129,
   "metadata": {},
   "outputs": [],
   "source": [
    "x = 10\n",
    "y = 5"
   ]
  },
  {
   "cell_type": "markdown",
   "metadata": {},
   "source": [
    "**Identity Operator**"
   ]
  },
  {
   "cell_type": "markdown",
   "metadata": {},
   "source": [
    "**is**"
   ]
  },
  {
   "cell_type": "markdown",
   "metadata": {},
   "source": [
    "Returns `True` if both variables are the same object.\n",
    "The `x` is the `y`."
   ]
  },
  {
   "cell_type": "code",
   "execution_count": 130,
   "metadata": {},
   "outputs": [
    {
     "data": {
      "text/plain": [
       "False"
      ]
     },
     "execution_count": 130,
     "metadata": {},
     "output_type": "execute_result"
    }
   ],
   "source": [
    "x is y"
   ]
  },
  {
   "cell_type": "markdown",
   "metadata": {},
   "source": [
    "**is not**"
   ]
  },
  {
   "cell_type": "markdown",
   "metadata": {},
   "source": [
    "Returns `True` if both variables are not the same object.\n",
    "`x` is not `y`."
   ]
  },
  {
   "cell_type": "code",
   "execution_count": 132,
   "metadata": {},
   "outputs": [
    {
     "data": {
      "text/plain": [
       "True"
      ]
     },
     "execution_count": 132,
     "metadata": {},
     "output_type": "execute_result"
    }
   ],
   "source": [
    "x is not y"
   ]
  },
  {
   "cell_type": "markdown",
   "metadata": {},
   "source": [
    "**Membership Operator**"
   ]
  },
  {
   "cell_type": "code",
   "execution_count": 136,
   "metadata": {},
   "outputs": [],
   "source": [
    "a = 'I'\n",
    "b = 'Ironhack'"
   ]
  },
  {
   "cell_type": "markdown",
   "metadata": {},
   "source": [
    "**in**"
   ]
  },
  {
   "cell_type": "markdown",
   "metadata": {},
   "source": [
    "Returns `True` if a sequence with the specified value is present in the object.\n",
    "`x` in `y`."
   ]
  },
  {
   "cell_type": "code",
   "execution_count": 137,
   "metadata": {},
   "outputs": [
    {
     "data": {
      "text/plain": [
       "True"
      ]
     },
     "execution_count": 137,
     "metadata": {},
     "output_type": "execute_result"
    }
   ],
   "source": [
    "a in b"
   ]
  },
  {
   "cell_type": "markdown",
   "metadata": {},
   "source": [
    "**not in**"
   ]
  },
  {
   "cell_type": "markdown",
   "metadata": {},
   "source": [
    "Returns `True` if a sequence with the specified value is not present in the object.\n",
    "`x` not in `y`."
   ]
  },
  {
   "cell_type": "code",
   "execution_count": 138,
   "metadata": {},
   "outputs": [
    {
     "data": {
      "text/plain": [
       "False"
      ]
     },
     "execution_count": 138,
     "metadata": {},
     "output_type": "execute_result"
    }
   ],
   "source": [
    "a not in b"
   ]
  },
  {
   "cell_type": "markdown",
   "metadata": {},
   "source": [
    "**Bitwise Operators**"
   ]
  },
  {
   "cell_type": "markdown",
   "metadata": {},
   "source": [
    "Bitwise operators are used to performing bitwise calculations on integers. The integers are first converted into binary and then operations are performed on bit by bit, hence the name bitwise operators. Then the result is returned in decimal format."
   ]
  },
  {
   "cell_type": "code",
   "execution_count": null,
   "metadata": {},
   "outputs": [],
   "source": []
  }
 ],
 "metadata": {
  "kernelspec": {
   "display_name": "Python 3 (ipykernel)",
   "language": "python",
   "name": "python3"
  },
  "language_info": {
   "codemirror_mode": {
    "name": "ipython",
    "version": 3
   },
   "file_extension": ".py",
   "mimetype": "text/x-python",
   "name": "python",
   "nbconvert_exporter": "python",
   "pygments_lexer": "ipython3",
   "version": "3.9.13"
  }
 },
 "nbformat": 4,
 "nbformat_minor": 2
}
