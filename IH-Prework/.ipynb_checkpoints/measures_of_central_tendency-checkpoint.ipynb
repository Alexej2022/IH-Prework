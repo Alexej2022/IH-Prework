{
 "cells": [
  {
   "cell_type": "markdown",
   "metadata": {},
   "source": [
    "## Measures of Central Tendency"
   ]
  },
  {
   "cell_type": "raw",
   "metadata": {},
   "source": [
    "These are defined by three statisitcs/quantities namely mean, median, and mode"
   ]
  },
  {
   "cell_type": "markdown",
   "metadata": {},
   "source": [
    "Here is a simple video to explain you the concepts:\n",
    "https://www.youtube.com/watch?v=GrynkZB3E7M"
   ]
  },
  {
   "cell_type": "markdown",
   "metadata": {},
   "source": [
    "### Mean"
   ]
  },
  {
   "cell_type": "raw",
   "metadata": {},
   "source": [
    "The mean, or average, of the data is the sum of all of the values of all of the datapoints divided by the total number of datapoints. It is important to note that it is sensitive to outliers, or values that are very far from the majority of other values in the data. This means that the mean will show a relatively large fluctuation when outlying points are added or removed from the dataset"
   ]
  },
  {
   "cell_type": "code",
   "execution_count": null,
   "metadata": {},
   "outputs": [],
   "source": []
  },
  {
   "cell_type": "raw",
   "metadata": {},
   "source": [
    "To do this with python, we will work with 'statistics' library. \n",
    "statistics is a very powerful library that provides us with many predefined mathematical functions to manipulate data. We will talk about the statistics library in more detail when we will deep dive in data analysis in the bootcamp. \n",
    "\n",
    "Here is a link to the documentation of this library for more details. \n",
    "[https://docs.python.org/3/library/statistics.html]"
   ]
  },
  {
   "cell_type": "code",
   "execution_count": 4,
   "metadata": {},
   "outputs": [],
   "source": [
    "# statistics — Mathematical statistics functions\n",
    "# New in version 3.4.\n",
    "\n",
    "# Source code: Lib/statistics.py\n",
    "\n",
    "# This module provides functions for calculating mathematical statistics of numeric (Real-valued) data.\n",
    "\n",
    "# The module is not intended to be a competitor to third-party libraries such as NumPy, SciPy, or proprietary full-featured statistics packages aimed at professional statisticians such as Minitab, SAS and Matlab. It is aimed at the level of graphing and scientific calculators.\n",
    "\n",
    "# Unless explicitly noted, these functions support int, float, Decimal and Fraction. Behaviour with other types (whether in the numeric tower or not) is currently unsupported. Collections with a mix of types are also undefined and implementation-dependent. If your input data consists of mixed types, you may be able to use map() to ensure a consistent result, for example: map(float, input_data).\n",
    "\n",
    "# Some datasets use NaN (not a number) values to represent missing data. Since NaNs have unusual comparison semantics, they cause surprising or undefined behaviors in the statistics functions that sort data or that count occurrences. The functions affected are median(), median_low(), median_high(), median_grouped(), mode(), multimode(), and quantiles(). The NaN values should be stripped before calling these functions:\n",
    "\n",
    "# >>>\n",
    "# from statistics import median\n",
    "# from math import isnan\n",
    "# from itertools import filterfalse\n",
    "\n",
    "# data = [20.7, float('NaN'),19.2, 18.3, float('NaN'), 14.4]\n",
    "# sorted(data)  # This has surprising behavior\n",
    "# [20.7, nan, 14.4, 18.3, 19.2, nan]\n",
    "# median(data)  # This result is unexpected\n",
    "# 16.35\n",
    "\n",
    "# sum(map(isnan, data))    # Number of missing values\n",
    "# 2\n",
    "# clean = list(filterfalse(isnan, data))  # Strip NaN values\n",
    "# clean\n",
    "# [20.7, 19.2, 18.3, 14.4]\n",
    "# sorted(clean)  # Sorting now works as expected\n",
    "# [14.4, 18.3, 19.2, 20.7]\n",
    "# median(clean)       # This result is now well defined\n",
    "# 18.75\n",
    "# Averages and measures of central location\n",
    "# These functions calculate an average or typical value from a population or sample.\n",
    "\n",
    "# mean()\n",
    "\n",
    "# Arithmetic mean (“average”) of data.\n",
    "\n",
    "# fmean()\n",
    "\n",
    "# Fast, floating point arithmetic mean, with optional weighting.\n",
    "\n",
    "# geometric_mean()\n",
    "\n",
    "# Geometric mean of data.\n",
    "\n",
    "# harmonic_mean()\n",
    "\n",
    "# Harmonic mean of data.\n",
    "\n",
    "# median()\n",
    "\n",
    "# Median (middle value) of data.\n",
    "\n",
    "# median_low()\n",
    "\n",
    "# Low median of data.\n",
    "\n",
    "# median_high()\n",
    "\n",
    "# High median of data.\n",
    "\n",
    "# median_grouped()\n",
    "\n",
    "# Median, or 50th percentile, of grouped data.\n",
    "\n",
    "# mode()\n",
    "\n",
    "# Single mode (most common value) of discrete or nominal data.\n",
    "\n",
    "# multimode()\n",
    "\n",
    "# List of modes (most common values) of discrete or nominal data.\n",
    "\n",
    "# quantiles()\n",
    "\n",
    "# Divide data into intervals with equal probability.\n",
    "\n",
    "# Measures of spread\n",
    "# These functions calculate a measure of how much the population or sample tends to deviate from the typical or average values.\n",
    "\n",
    "# pstdev()\n",
    "\n",
    "# Population standard deviation of data.\n",
    "\n",
    "# pvariance()\n",
    "\n",
    "# Population variance of data.\n",
    "\n",
    "# stdev()\n",
    "\n",
    "# Sample standard deviation of data.\n",
    "\n",
    "# variance()\n",
    "\n",
    "# Sample variance of data.\n",
    "\n",
    "# Statistics for relations between two inputs\n",
    "# These functions calculate statistics regarding relations between two inputs.\n",
    "\n",
    "# covariance()\n",
    "\n",
    "# Sample covariance for two variables.\n",
    "\n",
    "# correlation()\n",
    "\n",
    "# Pearson’s correlation coefficient for two variables.\n",
    "\n",
    "# linear_regression()\n",
    "\n",
    "# Slope and intercept for simple linear regression.\n",
    "\n",
    "# Function details\n",
    "# Note: The functions do not require the data given to them to be sorted. However, for reading convenience, most of the examples show sorted sequences.\n",
    "\n",
    "# statistics.mean(data)\n",
    "# Return the sample arithmetic mean of data which can be a sequence or iterable.\n",
    "\n",
    "# The arithmetic mean is the sum of the data divided by the number of data points. It is commonly called “the average”, although it is only one of many different mathematical averages. It is a measure of the central location of the data.\n",
    "\n",
    "# If data is empty, StatisticsError will be raised.\n",
    "\n",
    "# Some examples of use:\n",
    "\n",
    "# >>>\n",
    "# mean([1, 2, 3, 4, 4])\n",
    "# 2.8\n",
    "# mean([-1.0, 2.5, 3.25, 5.75])\n",
    "# 2.625\n",
    "\n",
    "# from fractions import Fraction as F\n",
    "# mean([F(3, 7), F(1, 21), F(5, 3), F(1, 3)])\n",
    "# Fraction(13, 21)\n",
    "\n",
    "# from decimal import Decimal as D\n",
    "# mean([D(\"0.5\"), D(\"0.75\"), D(\"0.625\"), D(\"0.375\")])\n",
    "# Decimal('0.5625')\n",
    "# Note The mean is strongly affected by outliers and is not necessarily a typical example of the data points. For a more robust, although less efficient, measure of central tendency, see median().\n",
    "# The sample mean gives an unbiased estimate of the true population mean, so that when taken on average over all the possible samples, mean(sample) converges on the true mean of the entire population. If data represents the entire population rather than a sample, then mean(data) is equivalent to calculating the true population mean μ.\n",
    "\n",
    "# statistics.fmean(data, weights=None)\n",
    "# Convert data to floats and compute the arithmetic mean.\n",
    "\n",
    "# This runs faster than the mean() function and it always returns a float. The data may be a sequence or iterable. If the input dataset is empty, raises a StatisticsError.\n",
    "\n",
    "# >>>\n",
    "# fmean([3.5, 4.0, 5.25])\n",
    "# 4.25\n",
    "# Optional weighting is supported. For example, a professor assigns a grade for a course by weighting quizzes at 20%, homework at 20%, a midterm exam at 30%, and a final exam at 30%:\n",
    "\n",
    "# >>>\n",
    "# grades = [85, 92, 83, 91]\n",
    "# weights = [0.20, 0.20, 0.30, 0.30]\n",
    "# fmean(grades, weights)\n",
    "# 87.6\n",
    "# If weights is supplied, it must be the same length as the data or a ValueError will be raised.\n",
    "\n",
    "# New in version 3.8.\n",
    "\n",
    "# Changed in version 3.11: Added support for weights.\n",
    "\n",
    "# statistics.geometric_mean(data)\n",
    "# Convert data to floats and compute the geometric mean.\n",
    "\n",
    "# The geometric mean indicates the central tendency or typical value of the data using the product of the values (as opposed to the arithmetic mean which uses their sum).\n",
    "\n",
    "# Raises a StatisticsError if the input dataset is empty, if it contains a zero, or if it contains a negative value. The data may be a sequence or iterable.\n",
    "\n",
    "# No special efforts are made to achieve exact results. (However, this may change in the future.)\n",
    "\n",
    "# >>>\n",
    "# round(geometric_mean([54, 24, 36]), 1)\n",
    "# 36.0\n",
    "# New in version 3.8.\n",
    "\n",
    "# statistics.harmonic_mean(data, weights=None)\n",
    "# Return the harmonic mean of data, a sequence or iterable of real-valued numbers. If weights is omitted or None, then equal weighting is assumed.\n",
    "\n",
    "# The harmonic mean is the reciprocal of the arithmetic mean() of the reciprocals of the data. For example, the harmonic mean of three values a, b and c will be equivalent to 3/(1/a + 1/b + 1/c). If one of the values is zero, the result will be zero.\n",
    "\n",
    "# The harmonic mean is a type of average, a measure of the central location of the data. It is often appropriate when averaging ratios or rates, for example speeds.\n",
    "\n",
    "# Suppose a car travels 10 km at 40 km/hr, then another 10 km at 60 km/hr. What is the average speed?\n",
    "\n",
    "# >>>\n",
    "# harmonic_mean([40, 60])\n",
    "# 48.0\n",
    "# Suppose a car travels 40 km/hr for 5 km, and when traffic clears, speeds-up to 60 km/hr for the remaining 30 km of the journey. What is the average speed?\n",
    "\n",
    "# >>>\n",
    "# harmonic_mean([40, 60], weights=[5, 30])\n",
    "# 56.0\n",
    "# StatisticsError is raised if data is empty, any element is less than zero, or if the weighted sum isn’t positive.\n",
    "\n",
    "# The current algorithm has an early-out when it encounters a zero in the input. This means that the subsequent inputs are not tested for validity. (This behavior may change in the future.)\n",
    "\n",
    "# New in version 3.6.\n",
    "\n",
    "# Changed in version 3.10: Added support for weights.\n",
    "\n",
    "# statistics.median(data)\n",
    "# Return the median (middle value) of numeric data, using the common “mean of middle two” method. If data is empty, StatisticsError is raised. data can be a sequence or iterable.\n",
    "\n",
    "# The median is a robust measure of central location and is less affected by the presence of outliers. When the number of data points is odd, the middle data point is returned:\n",
    "\n",
    "# >>>\n",
    "# median([1, 3, 5])\n",
    "# 3\n",
    "# When the number of data points is even, the median is interpolated by taking the average of the two middle values:\n",
    "\n",
    "# >>>\n",
    "# median([1, 3, 5, 7])\n",
    "# 4.0\n",
    "# This is suited for when your data is discrete, and you don’t mind that the median may not be an actual data point.\n",
    "\n",
    "# If the data is ordinal (supports order operations) but not numeric (doesn’t support addition), consider using median_low() or median_high() instead.\n",
    "\n",
    "# statistics.median_low(data)\n",
    "# Return the low median of numeric data. If data is empty, StatisticsError is raised. data can be a sequence or iterable.\n",
    "\n",
    "# The low median is always a member of the data set. When the number of data points is odd, the middle value is returned. When it is even, the smaller of the two middle values is returned.\n",
    "\n",
    "# >>>\n",
    "# median_low([1, 3, 5])\n",
    "# 3\n",
    "# median_low([1, 3, 5, 7])\n",
    "# 3\n",
    "# Use the low median when your data are discrete and you prefer the median to be an actual data point rather than interpolated.\n",
    "\n",
    "# statistics.median_high(data)\n",
    "# Return the high median of data. If data is empty, StatisticsError is raised. data can be a sequence or iterable.\n",
    "\n",
    "# The high median is always a member of the data set. When the number of data points is odd, the middle value is returned. When it is even, the larger of the two middle values is returned.\n",
    "\n",
    "# >>>\n",
    "# median_high([1, 3, 5])\n",
    "# 3\n",
    "# median_high([1, 3, 5, 7])\n",
    "# 5\n",
    "# Use the high median when your data are discrete and you prefer the median to be an actual data point rather than interpolated.\n",
    "\n",
    "# statistics.median_grouped(data, interval=1)\n",
    "# Return the median of grouped continuous data, calculated as the 50th percentile, using interpolation. If data is empty, StatisticsError is raised. data can be a sequence or iterable.\n",
    "\n",
    "# >>>\n",
    "# median_grouped([52, 52, 53, 54])\n",
    "# 52.5\n",
    "# In the following example, the data are rounded, so that each value represents the midpoint of data classes, e.g. 1 is the midpoint of the class 0.5–1.5, 2 is the midpoint of 1.5–2.5, 3 is the midpoint of 2.5–3.5, etc. With the data given, the middle value falls somewhere in the class 3.5–4.5, and interpolation is used to estimate it:\n",
    "\n",
    "# >>>\n",
    "# median_grouped([1, 2, 2, 3, 4, 4, 4, 4, 4, 5])\n",
    "# 3.7\n",
    "# Optional argument interval represents the class interval, and defaults to 1. Changing the class interval naturally will change the interpolation:\n",
    "\n",
    "# >>>\n",
    "# median_grouped([1, 3, 3, 5, 7], interval=1)\n",
    "# 3.25\n",
    "# median_grouped([1, 3, 3, 5, 7], interval=2)\n",
    "# 3.5\n",
    "# This function does not check whether the data points are at least interval apart.\n",
    "\n",
    "# CPython implementation detail: Under some circumstances, median_grouped() may coerce data points to floats. This behaviour is likely to change in the future.\n",
    "\n",
    "# See also\n",
    "# “Statistics for the Behavioral Sciences”, Frederick J Gravetter and Larry B Wallnau (8th Edition).\n",
    "\n",
    "# The SSMEDIAN function in the Gnome Gnumeric spreadsheet, including this discussion.\n",
    "\n",
    "# statistics.mode(data)\n",
    "# Return the single most common data point from discrete or nominal data. The mode (when it exists) is the most typical value and serves as a measure of central location.\n",
    "\n",
    "# If there are multiple modes with the same frequency, returns the first one encountered in the data. If the smallest or largest of those is desired instead, use min(multimode(data)) or max(multimode(data)). If the input data is empty, StatisticsError is raised.\n",
    "\n",
    "# mode assumes discrete data and returns a single value. This is the standard treatment of the mode as commonly taught in schools:\n",
    "\n",
    "# >>>\n",
    "# mode([1, 1, 2, 3, 3, 3, 3, 4])\n",
    "# 3\n",
    "# The mode is unique in that it is the only statistic in this package that also applies to nominal (non-numeric) data:\n",
    "\n",
    "# >>>\n",
    "# mode([\"red\", \"blue\", \"blue\", \"red\", \"green\", \"red\", \"red\"])\n",
    "# 'red'\n",
    "# Changed in version 3.8: Now handles multimodal datasets by returning the first mode encountered. Formerly, it raised StatisticsError when more than one mode was found.\n",
    "\n",
    "# statistics.multimode(data)\n",
    "# Return a list of the most frequently occurring values in the order they were first encountered in the data. Will return more than one result if there are multiple modes or an empty list if the data is empty:\n",
    "\n",
    "# >>>\n",
    "# multimode('aabbbbccddddeeffffgg')\n",
    "# ['b', 'd', 'f']\n",
    "# multimode('')\n",
    "# []\n",
    "# New in version 3.8.\n",
    "\n",
    "# statistics.pstdev(data, mu=None)\n",
    "# Return the population standard deviation (the square root of the population variance). See pvariance() for arguments and other details.\n",
    "\n",
    "# >>>\n",
    "# pstdev([1.5, 2.5, 2.5, 2.75, 3.25, 4.75])\n",
    "# 0.986893273527251\n",
    "# statistics.pvariance(data, mu=None)\n",
    "# Return the population variance of data, a non-empty sequence or iterable of real-valued numbers. Variance, or second moment about the mean, is a measure of the variability (spread or dispersion) of data. A large variance indicates that the data is spread out; a small variance indicates it is clustered closely around the mean.\n",
    "\n",
    "# If the optional second argument mu is given, it is typically the mean of the data. It can also be used to compute the second moment around a point that is not the mean. If it is missing or None (the default), the arithmetic mean is automatically calculated.\n",
    "\n",
    "# Use this function to calculate the variance from the entire population. To estimate the variance from a sample, the variance() function is usually a better choice.\n",
    "\n",
    "# Raises StatisticsError if data is empty.\n",
    "\n",
    "# Examples:\n",
    "\n",
    "# >>>\n",
    "# data = [0.0, 0.25, 0.25, 1.25, 1.5, 1.75, 2.75, 3.25]\n",
    "# pvariance(data)\n",
    "# 1.25\n",
    "# If you have already calculated the mean of your data, you can pass it as the optional second argument mu to avoid recalculation:\n",
    "\n",
    "# >>>\n",
    "# mu = mean(data)\n",
    "# pvariance(data, mu)\n",
    "# 1.25\n",
    "# Decimals and Fractions are supported:\n",
    "\n",
    "# >>>\n",
    "# from decimal import Decimal as D\n",
    "# pvariance([D(\"27.5\"), D(\"30.25\"), D(\"30.25\"), D(\"34.5\"), D(\"41.75\")])\n",
    "# Decimal('24.815')\n",
    "\n",
    "# from fractions import Fraction as F\n",
    "# pvariance([F(1, 4), F(5, 4), F(1, 2)])\n",
    "# Fraction(13, 72)\n",
    "# Note When called with the entire population, this gives the population variance σ². When called on a sample instead, this is the biased sample variance s², also known as variance with N degrees of freedom.\n",
    "# If you somehow know the true population mean μ, you may use this function to calculate the variance of a sample, giving the known population mean as the second argument. Provided the data points are a random sample of the population, the result will be an unbiased estimate of the population variance.\n",
    "\n",
    "# statistics.stdev(data, xbar=None)\n",
    "# Return the sample standard deviation (the square root of the sample variance). See variance() for arguments and other details.\n",
    "\n",
    "# >>>\n",
    "# stdev([1.5, 2.5, 2.5, 2.75, 3.25, 4.75])\n",
    "# 1.0810874155219827\n",
    "# statistics.variance(data, xbar=None)\n",
    "# Return the sample variance of data, an iterable of at least two real-valued numbers. Variance, or second moment about the mean, is a measure of the variability (spread or dispersion) of data. A large variance indicates that the data is spread out; a small variance indicates it is clustered closely around the mean.\n",
    "\n",
    "# If the optional second argument xbar is given, it should be the mean of data. If it is missing or None (the default), the mean is automatically calculated.\n",
    "\n",
    "# Use this function when your data is a sample from a population. To calculate the variance from the entire population, see pvariance().\n",
    "\n",
    "# Raises StatisticsError if data has fewer than two values.\n",
    "\n",
    "# Examples:\n",
    "\n",
    "# >>>\n",
    "# data = [2.75, 1.75, 1.25, 0.25, 0.5, 1.25, 3.5]\n",
    "# variance(data)\n",
    "# 1.3720238095238095\n",
    "# If you have already calculated the mean of your data, you can pass it as the optional second argument xbar to avoid recalculation:\n",
    "\n",
    "# >>>\n",
    "# m = mean(data)\n",
    "# variance(data, m)\n",
    "# 1.3720238095238095\n",
    "# This function does not attempt to verify that you have passed the actual mean as xbar. Using arbitrary values for xbar can lead to invalid or impossible results.\n",
    "\n",
    "# Decimal and Fraction values are supported:\n",
    "\n",
    "# >>>\n",
    "# from decimal import Decimal as D\n",
    "# variance([D(\"27.5\"), D(\"30.25\"), D(\"30.25\"), D(\"34.5\"), D(\"41.75\")])\n",
    "# Decimal('31.01875')\n",
    "\n",
    "# from fractions import Fraction as F\n",
    "# variance([F(1, 6), F(1, 2), F(5, 3)])\n",
    "# Fraction(67, 108)\n",
    "# Note This is the sample variance s² with Bessel’s correction, also known as variance with N-1 degrees of freedom. Provided that the data points are representative (e.g. independent and identically distributed), the result should be an unbiased estimate of the true population variance.\n",
    "# If you somehow know the actual population mean μ you should pass it to the pvariance() function as the mu parameter to get the variance of a sample.\n",
    "\n",
    "# statistics.quantiles(data, *, n=4, method='exclusive')\n",
    "# Divide data into n continuous intervals with equal probability. Returns a list of n - 1 cut points separating the intervals.\n",
    "\n",
    "# Set n to 4 for quartiles (the default). Set n to 10 for deciles. Set n to 100 for percentiles which gives the 99 cuts points that separate data into 100 equal sized groups. Raises StatisticsError if n is not least 1.\n",
    "\n",
    "# The data can be any iterable containing sample data. For meaningful results, the number of data points in data should be larger than n. Raises StatisticsError if there are not at least two data points.\n",
    "\n",
    "# The cut points are linearly interpolated from the two nearest data points. For example, if a cut point falls one-third of the distance between two sample values, 100 and 112, the cut-point will evaluate to 104.\n",
    "\n",
    "# The method for computing quantiles can be varied depending on whether the data includes or excludes the lowest and highest possible values from the population.\n",
    "\n",
    "# The default method is “exclusive” and is used for data sampled from a population that can have more extreme values than found in the samples. The portion of the population falling below the i-th of m sorted data points is computed as i / (m + 1). Given nine sample values, the method sorts them and assigns the following percentiles: 10%, 20%, 30%, 40%, 50%, 60%, 70%, 80%, 90%.\n",
    "\n",
    "# Setting the method to “inclusive” is used for describing population data or for samples that are known to include the most extreme values from the population. The minimum value in data is treated as the 0th percentile and the maximum value is treated as the 100th percentile. The portion of the population falling below the i-th of m sorted data points is computed as (i - 1) / (m - 1). Given 11 sample values, the method sorts them and assigns the following percentiles: 0%, 10%, 20%, 30%, 40%, 50%, 60%, 70%, 80%, 90%, 100%.\n",
    "\n",
    "# >>>\n",
    "# # Decile cut points for empirically sampled data\n",
    "# data = [105, 129, 87, 86, 111, 111, 89, 81, 108, 92, 110,\n",
    "#         100, 75, 105, 103, 109, 76, 119, 99, 91, 103, 129,\n",
    "#         106, 101, 84, 111, 74, 87, 86, 103, 103, 106, 86,\n",
    "#         111, 75, 87, 102, 121, 111, 88, 89, 101, 106, 95,\n",
    "#         103, 107, 101, 81, 109, 104]\n",
    "# [round(q, 1) for q in quantiles(data, n=10)]\n",
    "# [81.0, 86.2, 89.0, 99.4, 102.5, 103.6, 106.0, 109.8, 111.0]\n",
    "# New in version 3.8.\n",
    "\n",
    "# statistics.covariance(x, y, /)\n",
    "# Return the sample covariance of two inputs x and y. Covariance is a measure of the joint variability of two inputs.\n",
    "\n",
    "# Both inputs must be of the same length (no less than two), otherwise StatisticsError is raised.\n",
    "\n",
    "# Examples:\n",
    "\n",
    "# >>>\n",
    "# x = [1, 2, 3, 4, 5, 6, 7, 8, 9]\n",
    "# y = [1, 2, 3, 1, 2, 3, 1, 2, 3]\n",
    "# covariance(x, y)\n",
    "# 0.75\n",
    "# z = [9, 8, 7, 6, 5, 4, 3, 2, 1]\n",
    "# covariance(x, z)\n",
    "# -7.5\n",
    "# covariance(z, x)\n",
    "# -7.5\n",
    "# New in version 3.10.\n",
    "\n",
    "# statistics.correlation(x, y, /)\n",
    "# Return the Pearson’s correlation coefficient for two inputs. Pearson’s correlation coefficient r takes values between -1 and +1. It measures the strength and direction of the linear relationship, where +1 means very strong, positive linear relationship, -1 very strong, negative linear relationship, and 0 no linear relationship.\n",
    "\n",
    "# Both inputs must be of the same length (no less than two), and need not to be constant, otherwise StatisticsError is raised.\n",
    "\n",
    "# Examples:\n",
    "\n",
    "# >>>\n",
    "# x = [1, 2, 3, 4, 5, 6, 7, 8, 9]\n",
    "# y = [9, 8, 7, 6, 5, 4, 3, 2, 1]\n",
    "# correlation(x, x)\n",
    "# 1.0\n",
    "# correlation(x, y)\n",
    "# -1.0\n",
    "# New in version 3.10.\n",
    "\n",
    "# statistics.linear_regression(x, y, /, *, proportional=False)\n",
    "# Return the slope and intercept of simple linear regression parameters estimated using ordinary least squares. Simple linear regression describes the relationship between an independent variable x and a dependent variable y in terms of this linear function:\n",
    "\n",
    "# y = slope * x + intercept + noise\n",
    "\n",
    "# where slope and intercept are the regression parameters that are estimated, and noise represents the variability of the data that was not explained by the linear regression (it is equal to the difference between predicted and actual values of the dependent variable).\n",
    "\n",
    "# Both inputs must be of the same length (no less than two), and the independent variable x cannot be constant; otherwise a StatisticsError is raised.\n",
    "\n",
    "# For example, we can use the release dates of the Monty Python films to predict the cumulative number of Monty Python films that would have been produced by 2019 assuming that they had kept the pace.\n",
    "\n",
    "# >>>\n",
    "# year = [1971, 1975, 1979, 1982, 1983]\n",
    "# films_total = [1, 2, 3, 4, 5]\n",
    "# slope, intercept = linear_regression(year, films_total)\n",
    "# round(slope * 2019 + intercept)\n",
    "# 16\n",
    "# If proportional is true, the independent variable x and the dependent variable y are assumed to be directly proportional. The data is fit to a line passing through the origin. Since the intercept will always be 0.0, the underlying linear function simplifies to:\n",
    "\n",
    "# y = slope * x + noise\n",
    "\n",
    "# New in version 3.10.\n",
    "\n",
    "# Changed in version 3.11: Added support for proportional.\n",
    "\n",
    "# Exceptions\n",
    "# A single exception is defined:\n",
    "\n",
    "# exception statistics.StatisticsError\n",
    "# Subclass of ValueError for statistics-related exceptions.\n",
    "\n",
    "# NormalDist objects\n",
    "# NormalDist is a tool for creating and manipulating normal distributions of a random variable. It is a class that treats the mean and standard deviation of data measurements as a single entity.\n",
    "\n",
    "# Normal distributions arise from the Central Limit Theorem and have a wide range of applications in statistics.\n",
    "\n",
    "# class statistics.NormalDist(mu=0.0, sigma=1.0)\n",
    "# Returns a new NormalDist object where mu represents the arithmetic mean and sigma represents the standard deviation.\n",
    "\n",
    "# If sigma is negative, raises StatisticsError.\n",
    "\n",
    "# mean\n",
    "# A read-only property for the arithmetic mean of a normal distribution.\n",
    "\n",
    "# median\n",
    "# A read-only property for the median of a normal distribution.\n",
    "\n",
    "# mode\n",
    "# A read-only property for the mode of a normal distribution.\n",
    "\n",
    "# stdev\n",
    "# A read-only property for the standard deviation of a normal distribution.\n",
    "\n",
    "# variance\n",
    "# A read-only property for the variance of a normal distribution. Equal to the square of the standard deviation.\n",
    "\n",
    "# classmethod from_samples(data)\n",
    "# Makes a normal distribution instance with mu and sigma parameters estimated from the data using fmean() and stdev().\n",
    "\n",
    "# The data can be any iterable and should consist of values that can be converted to type float. If data does not contain at least two elements, raises StatisticsError because it takes at least one point to estimate a central value and at least two points to estimate dispersion.\n",
    "\n",
    "# samples(n, *, seed=None)\n",
    "# Generates n random samples for a given mean and standard deviation. Returns a list of float values.\n",
    "\n",
    "# If seed is given, creates a new instance of the underlying random number generator. This is useful for creating reproducible results, even in a multi-threading context.\n",
    "\n",
    "# pdf(x)\n",
    "# Using a probability density function (pdf), compute the relative likelihood that a random variable X will be near the given value x. Mathematically, it is the limit of the ratio P(x <= X < x+dx) / dx as dx approaches zero.\n",
    "\n",
    "# The relative likelihood is computed as the probability of a sample occurring in a narrow range divided by the width of the range (hence the word “density”). Since the likelihood is relative to other points, its value can be greater than 1.0.\n",
    "\n",
    "# cdf(x)\n",
    "# Using a cumulative distribution function (cdf), compute the probability that a random variable X will be less than or equal to x. Mathematically, it is written P(X <= x).\n",
    "\n",
    "# inv_cdf(p)\n",
    "# Compute the inverse cumulative distribution function, also known as the quantile function or the percent-point function. Mathematically, it is written x : P(X <= x) = p.\n",
    "\n",
    "# Finds the value x of the random variable X such that the probability of the variable being less than or equal to that value equals the given probability p.\n",
    "\n",
    "# overlap(other)\n",
    "# Measures the agreement between two normal probability distributions. Returns a value between 0.0 and 1.0 giving the overlapping area for the two probability density functions.\n",
    "\n",
    "# quantiles(n=4)\n",
    "# Divide the normal distribution into n continuous intervals with equal probability. Returns a list of (n - 1) cut points separating the intervals.\n",
    "\n",
    "# Set n to 4 for quartiles (the default). Set n to 10 for deciles. Set n to 100 for percentiles which gives the 99 cuts points that separate the normal distribution into 100 equal sized groups.\n",
    "\n",
    "# zscore(x)\n",
    "# Compute the Standard Score describing x in terms of the number of standard deviations above or below the mean of the normal distribution: (x - mean) / stdev.\n",
    "\n",
    "# New in version 3.9.\n",
    "\n",
    "# Instances of NormalDist support addition, subtraction, multiplication and division by a constant. These operations are used for translation and scaling. For example:\n",
    "\n",
    "# >>>\n",
    "# temperature_february = NormalDist(5, 2.5)             # Celsius\n",
    "# temperature_february * (9/5) + 32                     # Fahrenheit\n",
    "# NormalDist(mu=41.0, sigma=4.5)\n",
    "# Dividing a constant by an instance of NormalDist is not supported because the result wouldn’t be normally distributed.\n",
    "\n",
    "# Since normal distributions arise from additive effects of independent variables, it is possible to add and subtract two independent normally distributed random variables represented as instances of NormalDist. For example:\n",
    "\n",
    "# >>>\n",
    "# birth_weights = NormalDist.from_samples([2.5, 3.1, 2.1, 2.4, 2.7, 3.5])\n",
    "# drug_effects = NormalDist(0.4, 0.15)\n",
    "# combined = birth_weights + drug_effects\n",
    "# round(combined.mean, 1)\n",
    "# 3.1\n",
    "# round(combined.stdev, 1)\n",
    "# 0.5\n",
    "# New in version 3.8.\n",
    "\n",
    "# NormalDist Examples and Recipes\n",
    "# NormalDist readily solves classic probability problems.\n",
    "\n",
    "# For example, given historical data for SAT exams showing that scores are normally distributed with a mean of 1060 and a standard deviation of 195, determine the percentage of students with test scores between 1100 and 1200, after rounding to the nearest whole number:\n",
    "\n",
    "# >>>\n",
    "# sat = NormalDist(1060, 195)\n",
    "# fraction = sat.cdf(1200 + 0.5) - sat.cdf(1100 - 0.5)\n",
    "# round(fraction * 100.0, 1)\n",
    "# 18.4\n",
    "# Find the quartiles and deciles for the SAT scores:\n",
    "\n",
    "# >>>\n",
    "# list(map(round, sat.quantiles()))\n",
    "# [928, 1060, 1192]\n",
    "# list(map(round, sat.quantiles(n=10)))\n",
    "# [810, 896, 958, 1011, 1060, 1109, 1162, 1224, 1310]\n",
    "# To estimate the distribution for a model than isn’t easy to solve analytically, NormalDist can generate input samples for a Monte Carlo simulation:\n",
    "\n",
    "# >>>\n",
    "# def model(x, y, z):\n",
    "#     return (3*x + 7*x*y - 5*y) / (11 * z)\n",
    "\n",
    "# n = 100_000\n",
    "# X = NormalDist(10, 2.5).samples(n, seed=3652260728)\n",
    "# Y = NormalDist(15, 1.75).samples(n, seed=4582495471)\n",
    "# Z = NormalDist(50, 1.25).samples(n, seed=6582483453)\n",
    "# quantiles(map(model, X, Y, Z))       \n",
    "# [1.4591308524824727, 1.8035946855390597, 2.175091447274739]\n",
    "# Normal distributions can be used to approximate Binomial distributions when the sample size is large and when the probability of a successful trial is near 50%.\n",
    "\n",
    "# For example, an open source conference has 750 attendees and two rooms with a 500 person capacity. There is a talk about Python and another about Ruby. In previous conferences, 65% of the attendees preferred to listen to Python talks. Assuming the population preferences haven’t changed, what is the probability that the Python room will stay within its capacity limits?\n",
    "\n",
    "# >>>\n",
    "# n = 750             # Sample size\n",
    "# p = 0.65            # Preference for Python\n",
    "# q = 1.0 - p         # Preference for Ruby\n",
    "# k = 500             # Room capacity\n",
    "\n",
    "# # Approximation using the cumulative normal distribution\n",
    "# from math import sqrt\n",
    "# round(NormalDist(mu=n*p, sigma=sqrt(n*p*q)).cdf(k + 0.5), 4)\n",
    "# 0.8402\n",
    "\n",
    "# # Solution using the cumulative binomial distribution\n",
    "# from math import comb, fsum\n",
    "# round(fsum(comb(n, r) * p**r * q**(n-r) for r in range(k+1)), 4)\n",
    "# 0.8402\n",
    "\n",
    "# # Approximation using a simulation\n",
    "# from random import seed, choices\n",
    "# seed(8675309)\n",
    "# def trial():\n",
    "#     return choices(('Python', 'Ruby'), (p, q), k=n).count('Python')\n",
    "# mean(trial() <= k for i in range(10_000))\n",
    "# 0.8398\n",
    "# Normal distributions commonly arise in machine learning problems.\n",
    "\n",
    "# Wikipedia has a nice example of a Naive Bayesian Classifier. The challenge is to predict a person’s gender from measurements of normally distributed features including height, weight, and foot size.\n",
    "\n",
    "# We’re given a training dataset with measurements for eight people. The measurements are assumed to be normally distributed, so we summarize the data with NormalDist:\n",
    "\n",
    "# >>>\n",
    "# height_male = NormalDist.from_samples([6, 5.92, 5.58, 5.92])\n",
    "# height_female = NormalDist.from_samples([5, 5.5, 5.42, 5.75])\n",
    "# weight_male = NormalDist.from_samples([180, 190, 170, 165])\n",
    "# weight_female = NormalDist.from_samples([100, 150, 130, 150])\n",
    "# foot_size_male = NormalDist.from_samples([12, 11, 12, 10])\n",
    "# foot_size_female = NormalDist.from_samples([6, 8, 7, 9])\n",
    "# Next, we encounter a new person whose feature measurements are known but whose gender is unknown:\n",
    "\n",
    "# >>>\n",
    "# ht = 6.0        # height\n",
    "# wt = 130        # weight\n",
    "# fs = 8          # foot size\n",
    "# Starting with a 50% prior probability of being male or female, we compute the posterior as the prior times the product of likelihoods for the feature measurements given the gender:\n",
    "\n",
    "# >>>\n",
    "# prior_male = 0.5\n",
    "# prior_female = 0.5\n",
    "# posterior_male = (prior_male * height_male.pdf(ht) *\n",
    "#                   weight_male.pdf(wt) * foot_size_male.pdf(fs))\n",
    "\n",
    "# posterior_female = (prior_female * height_female.pdf(ht) *\n",
    "#                     weight_female.pdf(wt) * foot_size_female.pdf(fs))\n",
    "# The final prediction goes to the largest posterior. This is known as the maximum a posteriori or MAP:\n",
    "\n",
    "# >>>\n",
    "# 'male' if posterior_male > posterior_female else 'female'"
   ]
  },
  {
   "cell_type": "code",
   "execution_count": 5,
   "metadata": {},
   "outputs": [],
   "source": [
    "import statistics as stats # `as` is a keyword that is used create an alias `stats` for the statistics library "
   ]
  },
  {
   "cell_type": "raw",
   "metadata": {},
   "source": [
    "Why do we need an alias:\n",
    "\n",
    "If we have to use any predefined function from a library, we do it using a dot `.` operator. For eg\n",
    "statistics.mean(<argument>)     # To find the mean of some data points \n",
    "statistics.median(<argument>)   # To find the median of some data points \n",
    "\n",
    "Instead of using the complete name for the library, most coders prefer using a shorter alias. For eg. `stats` for statistics library, `pd` for pandas library, `np` for numpy library. We will discuss these libraries later  \n",
    "So now this alias can be used as a shorthand for the complete name of the library\n",
    "\n",
    "stats.mean(<argument>)\n",
    "stats.median(<argument>)\n",
    "\n"
   ]
  },
  {
   "cell_type": "code",
   "execution_count": 6,
   "metadata": {},
   "outputs": [],
   "source": [
    "# Given the following data (we will use a list here) :\n",
    "student_grades = [79, 87, 99, 96, 88, 79, 75, 68, 90, 91, 67]  # Here are the grades of 11 students in a class "
   ]
  },
  {
   "cell_type": "code",
   "execution_count": 7,
   "metadata": {},
   "outputs": [
    {
     "data": {
      "text/plain": [
       "83.54545454545455"
      ]
     },
     "execution_count": 7,
     "metadata": {},
     "output_type": "execute_result"
    }
   ],
   "source": [
    "stats.mean(student_grades)"
   ]
  },
  {
   "cell_type": "code",
   "execution_count": null,
   "metadata": {},
   "outputs": [],
   "source": []
  },
  {
   "cell_type": "markdown",
   "metadata": {},
   "source": [
    "### Median "
   ]
  },
  {
   "cell_type": "raw",
   "metadata": {},
   "source": [
    "The median is the middle number when the data is sorted into an ordered list. If there is an even number of datapoints, the median is the average of the middle two values. Unlike the mean, the inclusion of outliers does not have a very big impact on the median: even if the outlier is very large, if the rest of the data are more similarly distributed, adding one outlier to the data will only move the median slightly to one side of its previous position in the center of the data"
   ]
  },
  {
   "cell_type": "code",
   "execution_count": 8,
   "metadata": {},
   "outputs": [],
   "source": [
    "student_grades = [79, 87, 99, 96, 88, 79, 75, 68, 90, 91, 67]  # Here are the grades of 11 students in a class "
   ]
  },
  {
   "cell_type": "raw",
   "metadata": {},
   "source": [
    "How is the median calculated? A simple pseudocode.\n",
    "\n",
    "Arrange the data points in an ascending order\n",
    "\n",
    "First we look at the number of data points that we have. We can do it using the length function for lists \n",
    "\n",
    "If the number of data points is odd\n",
    "    Then median is (N+1)/2 th term is the median\n",
    "\n",
    "If the number of data points is even\n",
    "    Median is the arithematic mean of (N/2)th term and (N/2 + 1)th term"
   ]
  },
  {
   "cell_type": "code",
   "execution_count": null,
   "metadata": {},
   "outputs": [],
   "source": []
  },
  {
   "cell_type": "code",
   "execution_count": 9,
   "metadata": {},
   "outputs": [
    {
     "data": {
      "text/plain": [
       "array([67, 68, 75, 79, 79, 87, 88, 90, 91, 96, 99])"
      ]
     },
     "execution_count": 9,
     "metadata": {},
     "output_type": "execute_result"
    }
   ],
   "source": [
    "import numpy as np\n",
    "np.sort(student_grades)  # This is a function we can use to sort the data in ascending order"
   ]
  },
  {
   "cell_type": "code",
   "execution_count": 10,
   "metadata": {},
   "outputs": [
    {
     "data": {
      "text/plain": [
       "11"
      ]
     },
     "execution_count": 10,
     "metadata": {},
     "output_type": "execute_result"
    }
   ],
   "source": [
    "len(student_grades) # Number of data points in the list. "
   ]
  },
  {
   "cell_type": "code",
   "execution_count": 11,
   "metadata": {},
   "outputs": [],
   "source": [
    "# It should be the sixth term in the list. Note that `N` in the formula above for finding the mean \n",
    "# is a mathematical notation which does not follow zero based indexing as python"
   ]
  },
  {
   "cell_type": "code",
   "execution_count": 12,
   "metadata": {},
   "outputs": [
    {
     "data": {
      "text/plain": [
       "87"
      ]
     },
     "execution_count": 12,
     "metadata": {},
     "output_type": "execute_result"
    }
   ],
   "source": [
    "stats.median(student_grades)"
   ]
  },
  {
   "cell_type": "code",
   "execution_count": null,
   "metadata": {},
   "outputs": [],
   "source": []
  },
  {
   "cell_type": "code",
   "execution_count": 13,
   "metadata": {},
   "outputs": [],
   "source": [
    "# If the data had an even number of elements as shown below:\n",
    "\n",
    "student_grades = [79, 87, 99, 96, 88, 79, 75, 68, 90, 91] "
   ]
  },
  {
   "cell_type": "code",
   "execution_count": 14,
   "metadata": {},
   "outputs": [
    {
     "data": {
      "text/plain": [
       "array([68, 75, 79, 79, 87, 88, 90, 91, 96, 99])"
      ]
     },
     "execution_count": 14,
     "metadata": {},
     "output_type": "execute_result"
    }
   ],
   "source": [
    "np.sort(student_grades)"
   ]
  },
  {
   "cell_type": "code",
   "execution_count": 15,
   "metadata": {},
   "outputs": [
    {
     "data": {
      "text/plain": [
       "10"
      ]
     },
     "execution_count": 15,
     "metadata": {},
     "output_type": "execute_result"
    }
   ],
   "source": [
    "len(student_grades)"
   ]
  },
  {
   "cell_type": "code",
   "execution_count": 16,
   "metadata": {},
   "outputs": [
    {
     "data": {
      "text/plain": [
       "87.5"
      ]
     },
     "execution_count": 16,
     "metadata": {},
     "output_type": "execute_result"
    }
   ],
   "source": [
    "stats.median(student_grades)"
   ]
  },
  {
   "cell_type": "code",
   "execution_count": null,
   "metadata": {},
   "outputs": [],
   "source": []
  },
  {
   "cell_type": "code",
   "execution_count": null,
   "metadata": {},
   "outputs": [],
   "source": []
  },
  {
   "cell_type": "markdown",
   "metadata": {},
   "source": [
    "### Mode"
   ]
  },
  {
   "cell_type": "raw",
   "metadata": {},
   "source": [
    "The mode is the value that appears most often in the data. This measure is used most for categorical data, where we would be most interested in that category that is most used as a way of describing what is the \"average\" value for that category. We have added some description on what is categorical data in additional resources but we will talk about them in greater detail in the bootcamp when we will develop machine learning models "
   ]
  },
  {
   "cell_type": "code",
   "execution_count": null,
   "metadata": {},
   "outputs": [],
   "source": []
  },
  {
   "cell_type": "code",
   "execution_count": 17,
   "metadata": {},
   "outputs": [],
   "source": [
    "student_grades = [79, 87, 99, 96, 88, 79, 75, 68, 90, 91] "
   ]
  },
  {
   "cell_type": "code",
   "execution_count": 18,
   "metadata": {},
   "outputs": [
    {
     "data": {
      "text/plain": [
       "79"
      ]
     },
     "execution_count": 18,
     "metadata": {},
     "output_type": "execute_result"
    }
   ],
   "source": [
    "stats.mode(student_grades)"
   ]
  },
  {
   "cell_type": "code",
   "execution_count": null,
   "metadata": {},
   "outputs": [],
   "source": []
  },
  {
   "cell_type": "raw",
   "metadata": {},
   "source": [
    "Sometimes in our data, there might be multiple modes as well. An example of bi-modal data stored in a list is shown \n",
    "below. There values 87 and 99 are represented twice each. Hence there are two modes in the data. Statistics module in python is\n",
    "unable to detect multiple modes in the data. It results in an error as shown below: "
   ]
  },
  {
   "cell_type": "code",
   "execution_count": 19,
   "metadata": {},
   "outputs": [],
   "source": [
    "student_grades = [87, 87, 99, 99, 96, 88, 79, 75, 68, 90, 91] "
   ]
  },
  {
   "cell_type": "code",
   "execution_count": 20,
   "metadata": {},
   "outputs": [
    {
     "data": {
      "text/plain": [
       "87"
      ]
     },
     "execution_count": 20,
     "metadata": {},
     "output_type": "execute_result"
    }
   ],
   "source": [
    "stats.mode(student_grades)"
   ]
  },
  {
   "cell_type": "code",
   "execution_count": null,
   "metadata": {},
   "outputs": [],
   "source": []
  },
  {
   "cell_type": "code",
   "execution_count": 21,
   "metadata": {},
   "outputs": [],
   "source": [
    "# Now we will try to combine some things we learn in unit 1 to solve this problem"
   ]
  },
  {
   "cell_type": "raw",
   "metadata": {},
   "source": [
    "PseudoCode :\n",
    "\n",
    "Define an empty dictionary. This dictionary will store a key-value pair as \"Item in the list\" and \"Its frequency in the List\"\n",
    "\n",
    "Iterate on the list:\n",
    "    Find the frequency of each element using the count function \n",
    "    (Here is a simple demonstration : https://www.tutorialspoint.com/python3/list_count.htm)\n",
    "    \n",
    "    Add a new key-value pair with the element in the list as the key and frequency count as the value \n",
    "\n",
    "Find the maximum of the values in the dictionary and store it in a new variable max_value.\n",
    "\n",
    "Now iterate on the items in the dctionary\n",
    "    \n",
    "    if the value in the key-value pair matches the variable max_variable:\n",
    "        print the key for that key-value pair\n",
    "       "
   ]
  },
  {
   "cell_type": "code",
   "execution_count": null,
   "metadata": {},
   "outputs": [],
   "source": []
  },
  {
   "cell_type": "code",
   "execution_count": 22,
   "metadata": {},
   "outputs": [],
   "source": [
    "# Actual code is below:"
   ]
  },
  {
   "cell_type": "code",
   "execution_count": 23,
   "metadata": {},
   "outputs": [
    {
     "name": "stdout",
     "output_type": "stream",
     "text": [
      "{87: 2, 99: 2, 96: 1, 88: 1, 79: 1, 75: 1, 68: 1, 90: 1, 91: 1}\n"
     ]
    }
   ],
   "source": [
    "counts_dict = {} # Defining an empty dictionary to store the count of each \n",
    "for item in student_grades:\n",
    "    count_of_item = student_grades.count(item) # Count function to check the frequency of that item in the list \n",
    "    counts_dict[item] = count_of_item  # Creating a new key-value pair in each iteration\n",
    "\n",
    "print(counts_dict)"
   ]
  },
  {
   "cell_type": "code",
   "execution_count": 24,
   "metadata": {},
   "outputs": [
    {
     "name": "stdout",
     "output_type": "stream",
     "text": [
      "Values of counts in the dictionary are:  dict_values([2, 2, 1, 1, 1, 1, 1, 1, 1])\n",
      "Max value in the counts is: 2\n"
     ]
    }
   ],
   "source": [
    "# The values in the dictionary are:\n",
    "values = counts_dict.values()\n",
    "print(\"Values of counts in the dictionary are: \", values)\n",
    "\n",
    "max_value = max(values)  # To find the max of the frequency counts \n",
    "print(\"Max value in the counts is:\", max_value)"
   ]
  },
  {
   "cell_type": "code",
   "execution_count": null,
   "metadata": {},
   "outputs": [],
   "source": []
  },
  {
   "cell_type": "code",
   "execution_count": 25,
   "metadata": {},
   "outputs": [
    {
     "name": "stdout",
     "output_type": "stream",
     "text": [
      "For key:  key1 - the value is:  100\n",
      "For key:  key2 - the value is:  200\n",
      "For key:  key3 - the value is:  300\n"
     ]
    }
   ],
   "source": [
    "# In a previous lesson on iterations, we saw how we can iterate on key value pair. This is the example that we\n",
    "# looked at:\n",
    "x = {'key1': 100 , 'key2': 200 , 'key3':300}\n",
    "for key, value in x.items():\n",
    "    print(\"For key: \", key, \"- the value is: \", value)"
   ]
  },
  {
   "cell_type": "code",
   "execution_count": 26,
   "metadata": {},
   "outputs": [],
   "source": [
    "# we will use similar code to find the corresponding key for the value, if it equals the variable `max_value`"
   ]
  },
  {
   "cell_type": "code",
   "execution_count": 27,
   "metadata": {},
   "outputs": [
    {
     "name": "stdout",
     "output_type": "stream",
     "text": [
      "Mode:  87\n",
      "Mode:  99\n"
     ]
    }
   ],
   "source": [
    "for key, value in counts_dict.items():\n",
    "    if value == max_value:\n",
    "        print(\"Mode: \", key)"
   ]
  },
  {
   "cell_type": "code",
   "execution_count": null,
   "metadata": {},
   "outputs": [],
   "source": []
  },
  {
   "cell_type": "code",
   "execution_count": null,
   "metadata": {},
   "outputs": [],
   "source": []
  },
  {
   "cell_type": "markdown",
   "metadata": {},
   "source": [
    "### Exercise  "
   ]
  },
  {
   "cell_type": "raw",
   "metadata": {},
   "source": [
    "1. We saw that a dataset can have more than one mode. But can a dataset have more than one median? True or False\n",
    "\n",
    "2. Given the data in the list:\n",
    " data = [4,  7,  5,  9,  8,  6,  7,  7,  8,  5,  6,  9,  8, 5,  8,  7,  4,  7, 3,  6,  8,  9,  7,  6,  9]\n",
    " \n",
    " What is the range, mean, median, and mode of the dataset. \n",
    " Create a new dictionary called `data_dictionary` and store the above answers as key value pairs in the dictionary. Print the dictionary. \n",
    " \n",
    " \n",
    "3. To find which statistic do you have to arrange the data in an ascending order?\n",
    "\n",
    "4. How do you find the median when there are even number of data points?\n",
    "\n",
    "5. What is the range for the data set\n",
    "    points = [-4,  17,  25,  19,  6,  11,  7]\n",
    "\n",
    "6. What are outliers in a dataset? Which of the three - Mean, Median, and Mode - is more suseptible to change with presence of outliers in the data?\n",
    "\n"
   ]
  },
  {
   "cell_type": "code",
   "execution_count": 28,
   "metadata": {},
   "outputs": [
    {
     "name": "stdout",
     "output_type": "stream",
     "text": [
      "Mean is:  6.72\n",
      "Median is 7\n",
      "Mode is:  7\n",
      "{'Mean': 6.72, 'Median': 7, 'Mode': 7}\n"
     ]
    }
   ],
   "source": [
    "import statistics as stats\n",
    "data = [4,  7,  5,  9,  8,  6,  7,  7,  8,  5,  6,  9,  8, 5,  8,  7,  4,  7, 3,  6,  8,  9,  7,  6,  9]\n",
    " \n",
    "print(\"Mean is: \" , stats.mean(data))\n",
    " \n",
    "print(\"Median is\", stats.median(data))\n",
    " \n",
    "print(\"Mode is: \", stats.mode(data))\n",
    " \n",
    "data_dictionary = {}\n",
    "data_dictionary['Mean'] =  stats.mean(data)\n",
    "data_dictionary['Median'] =  stats.median(data)\n",
    "data_dictionary['Mode'] =  stats.mode(data)\n",
    " \n",
    "print(data_dictionary)"
   ]
  },
  {
   "cell_type": "code",
   "execution_count": null,
   "metadata": {},
   "outputs": [],
   "source": []
  }
 ],
 "metadata": {
  "kernelspec": {
   "display_name": "Python 3 (ipykernel)",
   "language": "python",
   "name": "python3"
  },
  "language_info": {
   "codemirror_mode": {
    "name": "ipython",
    "version": 3
   },
   "file_extension": ".py",
   "mimetype": "text/x-python",
   "name": "python",
   "nbconvert_exporter": "python",
   "pygments_lexer": "ipython3",
   "version": "3.9.13"
  }
 },
 "nbformat": 4,
 "nbformat_minor": 2
}
