{
 "cells": [
  {
   "cell_type": "code",
   "execution_count": 1,
   "id": "49c3d2e9",
   "metadata": {},
   "outputs": [],
   "source": [
    "# http://localhost:8888/notebooks/Desktop/IH-Prework/Prework%2C1.ipynb"
   ]
  },
  {
   "cell_type": "code",
   "execution_count": 2,
   "id": "430d6885",
   "metadata": {},
   "outputs": [
    {
     "ename": "SyntaxError",
     "evalue": "invalid syntax (2128545829.py, line 1)",
     "output_type": "error",
     "traceback": [
      "\u001b[1;36m  File \u001b[1;32m\"C:\\Users\\it-it\\AppData\\Local\\Temp\\ipykernel_24372\\2128545829.py\"\u001b[1;36m, line \u001b[1;32m1\u001b[0m\n\u001b[1;33m    $ python\u001b[0m\n\u001b[1;37m    ^\u001b[0m\n\u001b[1;31mSyntaxError\u001b[0m\u001b[1;31m:\u001b[0m invalid syntax\n"
     ]
    }
   ],
   "source": [
    "$ python"
   ]
  },
  {
   "cell_type": "code",
   "execution_count": 3,
   "id": "21ed2878",
   "metadata": {},
   "outputs": [],
   "source": [
    "# 1. Exercise - Variables\n",
    "# 1.1 For the following variables, use the function type() from Python to check the data type for the variables.\n",
    "# x1 = 1.1\n",
    "# x2 = \"Ironhack\"\n",
    "# x3 = \"1.1\"\n",
    "# x4 = True\n",
    "# x5 = \"True\"\n",
    "# x6 = -1"
   ]
  },
  {
   "cell_type": "code",
   "execution_count": 4,
   "id": "54ab6af7",
   "metadata": {},
   "outputs": [],
   "source": [
    "x1 = 1.1\n",
    "x2 = \"Ironhack\"\n",
    "x3 = \"1.1\"\n",
    "x4 = True\n",
    "x5 = \"True\"\n",
    "x6 = -1"
   ]
  },
  {
   "cell_type": "code",
   "execution_count": null,
   "id": "0eddaeeb",
   "metadata": {},
   "outputs": [],
   "source": [
    "# 1.2 What is the difference between variables x1 and x3?\n",
    "# x1 is integer, x3 is a text"
   ]
  },
  {
   "cell_type": "code",
   "execution_count": 4,
   "id": "ec906269",
   "metadata": {},
   "outputs": [
    {
     "ename": "NameError",
     "evalue": "name 'x3' is not defined",
     "output_type": "error",
     "traceback": [
      "\u001b[1;31m---------------------------------------------------------------------------\u001b[0m",
      "\u001b[1;31mNameError\u001b[0m                                 Traceback (most recent call last)",
      "\u001b[1;32m~\\AppData\\Local\\Temp\\ipykernel_7364\\3788517080.py\u001b[0m in \u001b[0;36m<module>\u001b[1;34m\u001b[0m\n\u001b[0;32m      1\u001b[0m \u001b[1;31m# 1.3 What happens if you subtract x3 from x1?\u001b[0m\u001b[1;33m\u001b[0m\u001b[1;33m\u001b[0m\u001b[0m\n\u001b[1;32m----> 2\u001b[1;33m \u001b[0mx3\u001b[0m\u001b[1;33m-\u001b[0m\u001b[0mx1\u001b[0m\u001b[1;33m\u001b[0m\u001b[1;33m\u001b[0m\u001b[0m\n\u001b[0m\u001b[0;32m      3\u001b[0m \u001b[0mprint\u001b[0m\u001b[1;33m(\u001b[0m\u001b[1;33m)\u001b[0m\u001b[1;33m\u001b[0m\u001b[1;33m\u001b[0m\u001b[0m\n\u001b[0;32m      4\u001b[0m \u001b[1;31m# categorical cannot be devided from numerical\u001b[0m\u001b[1;33m\u001b[0m\u001b[1;33m\u001b[0m\u001b[0m\n",
      "\u001b[1;31mNameError\u001b[0m: name 'x3' is not defined"
     ]
    }
   ],
   "source": [
    "# 1.3 What happens if you subtract x3 from x1?\n",
    "x3-x1\n",
    "print()\n",
    "# categorical cannot be devided from numerical"
   ]
  },
  {
   "cell_type": "code",
   "execution_count": 5,
   "id": "6c0703b6",
   "metadata": {},
   "outputs": [
    {
     "data": {
      "text/plain": [
       "0.0"
      ]
     },
     "execution_count": 5,
     "metadata": {},
     "output_type": "execute_result"
    }
   ],
   "source": [
    "1.1-1.1"
   ]
  },
  {
   "cell_type": "code",
   "execution_count": null,
   "id": "237633d3",
   "metadata": {},
   "outputs": [],
   "source": [
    "# 1.4 What is the difference between variables x4 and x5?\n",
    "# The True keyword is a Boolean value, and result of a comparison operation. The True keyword is the same as 1 ( False is the same as 0)."
   ]
  },
  {
   "cell_type": "code",
   "execution_count": null,
   "id": "fff9ffba",
   "metadata": {},
   "outputs": [],
   "source": [
    "# 1.5 What happens if you subtract x5 from x4?"
   ]
  },
  {
   "cell_type": "code",
   "execution_count": 6,
   "id": "b63c4531",
   "metadata": {},
   "outputs": [
    {
     "ename": "NameError",
     "evalue": "name 'x4' is not defined",
     "output_type": "error",
     "traceback": [
      "\u001b[1;31m---------------------------------------------------------------------------\u001b[0m",
      "\u001b[1;31mNameError\u001b[0m                                 Traceback (most recent call last)",
      "\u001b[1;32m~\\AppData\\Local\\Temp\\ipykernel_7364\\739417737.py\u001b[0m in \u001b[0;36m<module>\u001b[1;34m\u001b[0m\n\u001b[1;32m----> 1\u001b[1;33m \u001b[0mx4\u001b[0m\u001b[1;33m-\u001b[0m\u001b[0mx5\u001b[0m\u001b[1;33m\u001b[0m\u001b[1;33m\u001b[0m\u001b[0m\n\u001b[0m",
      "\u001b[1;31mNameError\u001b[0m: name 'x4' is not defined"
     ]
    }
   ],
   "source": [
    "x4-x5"
   ]
  },
  {
   "cell_type": "code",
   "execution_count": 8,
   "id": "0d5a870c",
   "metadata": {},
   "outputs": [
    {
     "ename": "TypeError",
     "evalue": "unsupported operand type(s) for -: 'bool' and 'str'",
     "output_type": "error",
     "traceback": [
      "\u001b[1;31m---------------------------------------------------------------------------\u001b[0m",
      "\u001b[1;31mTypeError\u001b[0m                                 Traceback (most recent call last)",
      "\u001b[1;32m~\\AppData\\Local\\Temp\\ipykernel_7364\\1316857049.py\u001b[0m in \u001b[0;36m<module>\u001b[1;34m\u001b[0m\n\u001b[1;32m----> 1\u001b[1;33m \u001b[1;32mTrue\u001b[0m\u001b[1;33m-\u001b[0m\u001b[1;34m\"True\"\u001b[0m\u001b[1;33m\u001b[0m\u001b[1;33m\u001b[0m\u001b[0m\n\u001b[0m",
      "\u001b[1;31mTypeError\u001b[0m: unsupported operand type(s) for -: 'bool' and 'str'"
     ]
    }
   ],
   "source": [
    "True-\"True\""
   ]
  },
  {
   "cell_type": "code",
   "execution_count": 7,
   "id": "a1fa8d5e",
   "metadata": {},
   "outputs": [
    {
     "data": {
      "text/plain": [
       "0"
      ]
     },
     "execution_count": 7,
     "metadata": {},
     "output_type": "execute_result"
    }
   ],
   "source": [
    "True - True"
   ]
  },
  {
   "cell_type": "code",
   "execution_count": null,
   "id": "187a8172",
   "metadata": {},
   "outputs": [],
   "source": [
    "# 2.1 In this problem we will show you how to take a user input. To gather input from the user, we can use the function input(message), where “message” is a meaningful message of type str and will be displayed to the user.\n",
    "\n",
    "# Use the code and then answer the questions that follow:"
   ]
  },
  {
   "cell_type": "code",
   "execution_count": null,
   "id": "cea0aef5",
   "metadata": {},
   "outputs": [],
   "source": [
    "# Benefits\n",
    "# Some of the advantages of using python are:\n",
    "\n",
    "# Available on all platforms - Windows, Mac OS X, and Unix operating systems\n",
    "# Supports a large collection of standard libraries and modules that you can use, such as Pandas and Numpy\n",
    "# Hint: Explore this article to see all Python libraries\n",
    "# Python is a very high-level or very abstract programming language, making code more elegant and easier to interpret\n",
    "# Hint: In plain words, high-level programming language looks more like English in prose. That’s why pseudocode will be always the first step of coding.\n",
    "# Has high-level data types built-in, such as flexible arrays and dictionaries\n",
    "# Organizes your program code in a modular way, which supports the code reusability\n",
    "# It’s easier to use than C/C++/Java\n",
    "# Offers much more structure and support for large programs than shell scripts\n",
    "# Offers much better error checking than C\n",
    "# Tech Stack\n",
    "# Codeitbro\n",
    "\n",
    "# There is a lot of chatter nowadays about different programming languages and which one to choose for your career. One thing we can be sure of: probably you will learn more than one programming language in your life. Learning the first, is a little bit more difficult because you will need to interpret notes like: what is a function or how do I check if my code is returning good results. You might pick up now the most prominent in the industry, in the field you are working, or just the easiest one to start.\n",
    "\n",
    "# We will cover just the basic difference in the scope and move forward from the discussion.\n",
    "\n",
    "# Compiled language (C/C++) Vs. Interpreted Language (Python/JavaScript)\n",
    "# In a compiled implementation of a code/program, the original code is translated into native machine instructions, which are executed directly by the machine’s hardware - CPU -. In an interpreted language, the code is converted into binary instructions and then read and executed by some other program. In python’s implementation, the original code is translated into Binary instructions often called bytecode that can run on any Java Virtual Machine.\n",
    "\n",
    "# Watch this video for more information: Compiled vs Interpreted Language\n",
    "\n",
    "# Python Interpreter is usually installed as /usr/local/bin/python3.7. In the shell, when we type the command,\n",
    "\n",
    "# Copy\n",
    "# $ python\n",
    "# we are calling the interpreter. When it is called with a file name argument, it reads and executes a script from that file:\n",
    "\n",
    "# Copy\n",
    "# $ python myscript.py\n",
    "# Note: A lot of these commands and explanations might not make a lot of sense now, so don’t try to deeply understand them just yet. During the curse, with the assistance of your instructors and classmates, you will pick up these concepts pretty quickly.\n",
    "\n",
    "# Python is an extensible language\n",
    "# Python allows you to interface with libraries written in other languages. For eg., Python can not call C/C++ functions directly, but the glue extensions handle conversion between Python data types and C/C++ data types and error checking, translation error return values into Python exception\n",
    "\n",
    "# Additional Resources\n",
    "# Why use Python\n",
    "# Reading More about Python"
   ]
  }
 ],
 "metadata": {
  "kernelspec": {
   "display_name": "Python 3 (ipykernel)",
   "language": "python",
   "name": "python3"
  },
  "language_info": {
   "codemirror_mode": {
    "name": "ipython",
    "version": 3
   },
   "file_extension": ".py",
   "mimetype": "text/x-python",
   "name": "python",
   "nbconvert_exporter": "python",
   "pygments_lexer": "ipython3",
   "version": "3.9.13"
  }
 },
 "nbformat": 4,
 "nbformat_minor": 5
}
